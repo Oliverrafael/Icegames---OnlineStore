{
 "cells": [
  {
   "cell_type": "markdown",
   "metadata": {},
   "source": [
    "# Título do Projeto\n",
    "## Icegames - Loja Online"
   ]
  },
  {
   "cell_type": "markdown",
   "metadata": {},
   "source": [
    "# Descrição do projeto\n",
    "Você trabalha para a loja online Ice, que vende videogames no mundo todo. As avaliações de usuários e especialistas, gêneros, plataformas (por exemplo, Xbox ou PlayStation) e dados históricos sobre vendas de jogos estão disponíveis em fontes abertas."
   ]
  },
  {
   "cell_type": "markdown",
   "metadata": {},
   "source": [
    "# Objetivo do projeto\n",
    "\n",
    "Você precisa identificar padrões que determinam se um jogo tem sucesso ou não. Isso vai permitir que você identifique possíveis sucessos e planeje campanhas publicitárias.\n",
    "Os dados disponibilizados remontam a 2016. Vamos imaginar que estamos em dezembro de 2016 e você está planejando uma campanha para 2017.\n",
    "(O importante é ter experiência trabalhando com dados. Realmente não importa se você está prevendo as vendas de 2017 com base nos dados de 2016 ou as vendas de 2027 com base nos dados de 2026.)\n",
    "O conjunto de dados contém uma coluna de \"rating\" (classificação) que armazena a classificação ESRB de cada jogo. O Entertainment Software Rating Board avalia o conteúdo de um jogo e atribui uma classificação etária, como Teen (Adolescente) ou Mature (Adulto)."
   ]
  },
  {
   "cell_type": "markdown",
   "metadata": {},
   "source": [
    "# Descrição dos dados\n",
    "\n",
    "\n",
    "- —Name (nome)\n",
    "\n",
    "- —Platform (plataforma)\n",
    "\n",
    "- —Year_of_Release (Ano de lançamento)\n",
    "\n",
    "- —Genre (gênero)\n",
    "\n",
    "- —NA_sales (vendas norte-americanas em milhões de USD)\n",
    "\n",
    "- —EU_sales (vendas na Europa em milhões de USD)\n",
    "\n",
    "- —JP_sales (vendas no Japão em milhões de USD)\n",
    "\n",
    "- —Other_sales (vendas em outros países em em milhões de USD)\n",
    "\n",
    "- —Critic_Score (Pontuação crítica) (máximo de 100)\n",
    "\n",
    "- —User_Score (Pontuação do usuário) (máximo de 10)\n",
    "\n",
    "- —Classificação (ESRB)"
   ]
  },
  {
   "cell_type": "markdown",
   "metadata": {},
   "source": [
    "# Inicialização"
   ]
  },
  {
   "cell_type": "code",
   "execution_count": 1,
   "metadata": {},
   "outputs": [],
   "source": [
    "# carregando as bibliotecas\n",
    "import pandas as pd\n",
    "import numpy as np\n",
    "import matplotlib.pyplot as plt\n",
    "import seaborn as sns\n",
    "import scipy.stats as st"
   ]
  },
  {
   "cell_type": "markdown",
   "metadata": {},
   "source": [
    "# Carregando os dados"
   ]
  },
  {
   "cell_type": "code",
   "execution_count": 2,
   "metadata": {},
   "outputs": [],
   "source": [
    "# carregando os dados\n",
    "df = pd.read_csv('games.csv')"
   ]
  },
  {
   "cell_type": "markdown",
   "metadata": {},
   "source": [
    "# Preparando os dados"
   ]
  },
  {
   "cell_type": "code",
   "execution_count": 3,
   "metadata": {
    "scrolled": true
   },
   "outputs": [
    {
     "name": "stdout",
     "output_type": "stream",
     "text": [
      "<class 'pandas.core.frame.DataFrame'>\n",
      "RangeIndex: 16715 entries, 0 to 16714\n",
      "Data columns (total 11 columns):\n",
      " #   Column           Non-Null Count  Dtype  \n",
      "---  ------           --------------  -----  \n",
      " 0   Name             16713 non-null  object \n",
      " 1   Platform         16715 non-null  object \n",
      " 2   Year_of_Release  16446 non-null  float64\n",
      " 3   Genre            16713 non-null  object \n",
      " 4   NA_sales         16715 non-null  float64\n",
      " 5   EU_sales         16715 non-null  float64\n",
      " 6   JP_sales         16715 non-null  float64\n",
      " 7   Other_sales      16715 non-null  float64\n",
      " 8   Critic_Score     8137 non-null   float64\n",
      " 9   User_Score       10014 non-null  object \n",
      " 10  Rating           9949 non-null   object \n",
      "dtypes: float64(6), object(5)\n",
      "memory usage: 1.4+ MB\n"
     ]
    }
   ],
   "source": [
    "# visualizando os dados\n",
    "df.info()"
   ]
  },
  {
   "cell_type": "code",
   "execution_count": 4,
   "metadata": {
    "scrolled": false
   },
   "outputs": [
    {
     "data": {
      "text/plain": [
       "Index(['name', 'platform', 'year_of_release', 'genre', 'na_sales', 'eu_sales',\n",
       "       'jp_sales', 'other_sales', 'critic_score', 'user_score', 'rating'],\n",
       "      dtype='object')"
      ]
     },
     "execution_count": 4,
     "metadata": {},
     "output_type": "execute_result"
    }
   ],
   "source": [
    "# Transformando o nome das colunas em letras minusculas\n",
    "df.columns = df.columns.str.lower()\n",
    "df.columns"
   ]
  },
  {
   "cell_type": "code",
   "execution_count": 5,
   "metadata": {
    "scrolled": false
   },
   "outputs": [
    {
     "data": {
      "text/html": [
       "<div>\n",
       "<style scoped>\n",
       "    .dataframe tbody tr th:only-of-type {\n",
       "        vertical-align: middle;\n",
       "    }\n",
       "\n",
       "    .dataframe tbody tr th {\n",
       "        vertical-align: top;\n",
       "    }\n",
       "\n",
       "    .dataframe thead th {\n",
       "        text-align: right;\n",
       "    }\n",
       "</style>\n",
       "<table border=\"1\" class=\"dataframe\">\n",
       "  <thead>\n",
       "    <tr style=\"text-align: right;\">\n",
       "      <th></th>\n",
       "      <th>name</th>\n",
       "      <th>platform</th>\n",
       "      <th>year_of_release</th>\n",
       "      <th>genre</th>\n",
       "      <th>na_sales</th>\n",
       "      <th>eu_sales</th>\n",
       "      <th>jp_sales</th>\n",
       "      <th>other_sales</th>\n",
       "      <th>critic_score</th>\n",
       "      <th>user_score</th>\n",
       "      <th>rating</th>\n",
       "    </tr>\n",
       "  </thead>\n",
       "  <tbody>\n",
       "    <tr>\n",
       "      <th>0</th>\n",
       "      <td>Wii Sports</td>\n",
       "      <td>Wii</td>\n",
       "      <td>2006.0</td>\n",
       "      <td>Sports</td>\n",
       "      <td>41.36</td>\n",
       "      <td>28.96</td>\n",
       "      <td>3.77</td>\n",
       "      <td>8.45</td>\n",
       "      <td>76.0</td>\n",
       "      <td>8</td>\n",
       "      <td>E</td>\n",
       "    </tr>\n",
       "    <tr>\n",
       "      <th>1</th>\n",
       "      <td>Super Mario Bros.</td>\n",
       "      <td>NES</td>\n",
       "      <td>1985.0</td>\n",
       "      <td>Platform</td>\n",
       "      <td>29.08</td>\n",
       "      <td>3.58</td>\n",
       "      <td>6.81</td>\n",
       "      <td>0.77</td>\n",
       "      <td>NaN</td>\n",
       "      <td>NaN</td>\n",
       "      <td>NaN</td>\n",
       "    </tr>\n",
       "    <tr>\n",
       "      <th>2</th>\n",
       "      <td>Mario Kart Wii</td>\n",
       "      <td>Wii</td>\n",
       "      <td>2008.0</td>\n",
       "      <td>Racing</td>\n",
       "      <td>15.68</td>\n",
       "      <td>12.76</td>\n",
       "      <td>3.79</td>\n",
       "      <td>3.29</td>\n",
       "      <td>82.0</td>\n",
       "      <td>8.3</td>\n",
       "      <td>E</td>\n",
       "    </tr>\n",
       "    <tr>\n",
       "      <th>3</th>\n",
       "      <td>Wii Sports Resort</td>\n",
       "      <td>Wii</td>\n",
       "      <td>2009.0</td>\n",
       "      <td>Sports</td>\n",
       "      <td>15.61</td>\n",
       "      <td>10.93</td>\n",
       "      <td>3.28</td>\n",
       "      <td>2.95</td>\n",
       "      <td>80.0</td>\n",
       "      <td>8</td>\n",
       "      <td>E</td>\n",
       "    </tr>\n",
       "    <tr>\n",
       "      <th>4</th>\n",
       "      <td>Pokemon Red/Pokemon Blue</td>\n",
       "      <td>GB</td>\n",
       "      <td>1996.0</td>\n",
       "      <td>Role-Playing</td>\n",
       "      <td>11.27</td>\n",
       "      <td>8.89</td>\n",
       "      <td>10.22</td>\n",
       "      <td>1.00</td>\n",
       "      <td>NaN</td>\n",
       "      <td>NaN</td>\n",
       "      <td>NaN</td>\n",
       "    </tr>\n",
       "  </tbody>\n",
       "</table>\n",
       "</div>"
      ],
      "text/plain": [
       "                       name platform  year_of_release         genre  na_sales  \\\n",
       "0                Wii Sports      Wii           2006.0        Sports     41.36   \n",
       "1         Super Mario Bros.      NES           1985.0      Platform     29.08   \n",
       "2            Mario Kart Wii      Wii           2008.0        Racing     15.68   \n",
       "3         Wii Sports Resort      Wii           2009.0        Sports     15.61   \n",
       "4  Pokemon Red/Pokemon Blue       GB           1996.0  Role-Playing     11.27   \n",
       "\n",
       "   eu_sales  jp_sales  other_sales  critic_score user_score rating  \n",
       "0     28.96      3.77         8.45          76.0          8      E  \n",
       "1      3.58      6.81         0.77           NaN        NaN    NaN  \n",
       "2     12.76      3.79         3.29          82.0        8.3      E  \n",
       "3     10.93      3.28         2.95          80.0          8      E  \n",
       "4      8.89     10.22         1.00           NaN        NaN    NaN  "
      ]
     },
     "execution_count": 5,
     "metadata": {},
     "output_type": "execute_result"
    }
   ],
   "source": [
    "# Visualizando os dados\n",
    "df.head()"
   ]
  },
  {
   "cell_type": "code",
   "execution_count": 6,
   "metadata": {},
   "outputs": [
    {
     "data": {
      "text/plain": [
       "0"
      ]
     },
     "execution_count": 6,
     "metadata": {},
     "output_type": "execute_result"
    }
   ],
   "source": [
    "# verificando se existem valores duplicados\n",
    "df.duplicated().sum()"
   ]
  },
  {
   "cell_type": "code",
   "execution_count": 7,
   "metadata": {
    "scrolled": false
   },
   "outputs": [
    {
     "data": {
      "text/plain": [
       "name                  2\n",
       "platform              0\n",
       "year_of_release     269\n",
       "genre                 2\n",
       "na_sales              0\n",
       "eu_sales              0\n",
       "jp_sales              0\n",
       "other_sales           0\n",
       "critic_score       8578\n",
       "user_score         6701\n",
       "rating             6766\n",
       "dtype: int64"
      ]
     },
     "execution_count": 7,
     "metadata": {},
     "output_type": "execute_result"
    }
   ],
   "source": [
    "# verificando a quantidade de valores ausentes em cada coluna\n",
    "df.isna().sum()"
   ]
  },
  {
   "cell_type": "code",
   "execution_count": 8,
   "metadata": {},
   "outputs": [],
   "source": [
    "# Solucionando os valores ausentes em ESRB(Classificação de faixa etária)\n",
    "# A função fill_missing_rating() verifica se o valor na coluna 'rating' é nulo.\n",
    "# Se for nulo, ele compara as vendas em cada região e atribui a classificação ESRB mais comum para essa região. \n",
    "# Utilizamos essa função para melhor visualização dos dados e sem ter que remover as linhas que contém valores ausentes\n",
    "def fill_missing_rating(row):\n",
    "    if pd.isna(row['rating']):\n",
    "        if row['na_sales'] > row['eu_sales'] and row['na_sales'] > row['jp_sales']:\n",
    "            return 'E'\n",
    "        elif row['eu_sales'] > row['na_sales'] and row['eu_sales'] > row['jp_sales']:\n",
    "            return 'T'\n",
    "        else:\n",
    "            return 'M'\n",
    "    else:\n",
    "        return row['rating']\n",
    "\n",
    "\n",
    "df['rating'] = df.apply(fill_missing_rating, axis=1)"
   ]
  },
  {
   "cell_type": "code",
   "execution_count": 9,
   "metadata": {},
   "outputs": [],
   "source": [
    "# verificando valores ausentes e removendo\n",
    "df['year_of_release'].isna().sum()\n",
    "df.dropna(subset=['name'], inplace=True)"
   ]
  },
  {
   "cell_type": "code",
   "execution_count": 10,
   "metadata": {},
   "outputs": [],
   "source": [
    "# Se `Year_of_Release` é vazio, tente encontrar o mesmo jogo e plataforma com essa informação preenchida,\n",
    "# se encontrar use a informação para preencher os vazios.\n",
    "# Se `Year_of_Release` é vazio, tente encontrar o mesmo jogo com essa informação preenchida,\n",
    "# se encontrar use a informação para preencher os vazios.\n",
    "# Se `Year_of_Release` é vazio, tente encontrar a mesma plataforma com essa informação preenchida,\n",
    "# se encontrar use a informação para preencher os vazios.\n",
    "\n",
    "df['year_of_release'] = df.groupby(['name', 'platform'])['year_of_release'].transform(lambda x: x.fillna(x.min()))\n",
    "df['year_of_release'] = df.groupby(['name'])['year_of_release'].transform(lambda x: x.fillna(x.min()))\n",
    "df['year_of_release'] = df.groupby(['platform'])['year_of_release'].transform(lambda x: x.fillna(x.min()))\n",
    "#df['Year_of_Release'] = df.groupby(['Platform'])['Year_of_Release'].transform(lambda x: x.fillna(x.median()))"
   ]
  },
  {
   "cell_type": "code",
   "execution_count": 11,
   "metadata": {
    "scrolled": true
   },
   "outputs": [],
   "source": [
    "# Preenchendo valores ausentes como 'unknown'.\n",
    "columns_unk = ['name', 'genre']\n",
    "\n",
    "for col in columns_unk:\n",
    "    df[col].fillna('unknow', inplace=True)"
   ]
  },
  {
   "cell_type": "code",
   "execution_count": 12,
   "metadata": {},
   "outputs": [],
   "source": [
    "# Alterando os tipos de dados\n",
    "\n",
    "df['year_of_release'] = df['year_of_release'].astype(int)\n",
    "\n",
    "df['critic_score'] = df['critic_score'].astype(float)\n",
    "\n",
    "df['user_score'] = pd.to_numeric(df['user_score'], errors='coerce').astype(float)"
   ]
  },
  {
   "cell_type": "code",
   "execution_count": 13,
   "metadata": {},
   "outputs": [],
   "source": [
    "# Preenchendo valores ausentes em critic_score\n",
    "mean_critic_score = df['critic_score'].mean()\n",
    "\n",
    "df['critic_score'].fillna(mean_critic_score, inplace=True)"
   ]
  },
  {
   "cell_type": "code",
   "execution_count": 14,
   "metadata": {},
   "outputs": [],
   "source": [
    "# Preenchendo valores ausentes em user_score\n",
    "mean_user_score = df['user_score'].mean()\n",
    "\n",
    "df['user_score'].fillna(mean_user_score, inplace=True)"
   ]
  },
  {
   "cell_type": "markdown",
   "metadata": {},
   "source": [
    "### Descreva as colunas onde os tipos de dados foram alterados e por quê.\n",
    "\n",
    "Obs: Valores alterados em 'year_of_release' e 'critic_score'.\n",
    "\n",
    "Em 'year_of_release' os dados estavam em ('float') quando na verdade deveriam ser ('int').\n",
    "\n",
    "\n",
    "Em 'critic_score' os dados estavam em ('float') quando na verdade deveriam ser ('int') pois a avaliação vai de 0-100.\n",
    "\n"
   ]
  },
  {
   "cell_type": "markdown",
   "metadata": {},
   "source": [
    "### Se necessário, decida como lidar com valores ausentes:\n",
    "\n",
    "Obs: Valores ausentes nas seguintes colunas: 'name', 'year_of_release','critic_score' e 'user_score'."
   ]
  },
  {
   "cell_type": "markdown",
   "metadata": {},
   "source": [
    "### Explique por que você preencheu os valores ausentes da forma que você fez ou por que você decidiu deixá-los em branco.\n",
    "\n",
    "Obs: Todos os valores ausentes foram preenchidos para melhor visualização e futuras modificações dos dados.\n",
    "\n",
    "Em 'genre' os valores ausentes foram preenchidos com 'unknown(desconhecido)' pois se tratavam de genero.\n",
    "\n",
    "Em 'critic_score', 'user_score' os dados foram preenchidos com '0' já que se tratavam de números como avaliações.\n"
   ]
  },
  {
   "cell_type": "markdown",
   "metadata": {},
   "source": [
    "### Por que acha que os valores estão ausentes? Dê possíveis razões.\n",
    "\n",
    "1- Pode haver problemas técnicos ou erros humanos durante a coleta dos dados, levando à ausência de algumas informações que acarreta em Falhas na coleta de dados.\n",
    "\n",
    "2- Alguns campos podem ser opcionais, e os participantes podem escolher não fornecer determinadas informações.\n",
    "\n",
    "3- Se os dados são provenientes de diferentes sistemas ou fontes, pode haver incompatibilidades que levam à falta de algumas informações.\n",
    "\n",
    "4- Em pesquisas ou questionários referente aos jogos, os participantes podem escolher não responder algumas das perguntas o que acaba resultando em valores ausentes."
   ]
  },
  {
   "cell_type": "markdown",
   "metadata": {},
   "source": [
    "### Preste atenção à abreviação TBD (a ser determinada). Especifique como pretende lidar com esses casos.\n",
    "\n",
    "Obs: Para lidar com TBD utilizamos (errors='coerce') que substitui \"TBD\" por NaN e converte os valores para números e logo após eu modifiquei o tipo de dado para 'float' que eu julguei ser o correto para este caso."
   ]
  },
  {
   "cell_type": "code",
   "execution_count": 15,
   "metadata": {},
   "outputs": [
    {
     "data": {
      "text/html": [
       "<div>\n",
       "<style scoped>\n",
       "    .dataframe tbody tr th:only-of-type {\n",
       "        vertical-align: middle;\n",
       "    }\n",
       "\n",
       "    .dataframe tbody tr th {\n",
       "        vertical-align: top;\n",
       "    }\n",
       "\n",
       "    .dataframe thead th {\n",
       "        text-align: right;\n",
       "    }\n",
       "</style>\n",
       "<table border=\"1\" class=\"dataframe\">\n",
       "  <thead>\n",
       "    <tr style=\"text-align: right;\">\n",
       "      <th></th>\n",
       "      <th>name</th>\n",
       "      <th>platform</th>\n",
       "      <th>year_of_release</th>\n",
       "      <th>genre</th>\n",
       "      <th>na_sales</th>\n",
       "      <th>eu_sales</th>\n",
       "      <th>jp_sales</th>\n",
       "      <th>other_sales</th>\n",
       "      <th>critic_score</th>\n",
       "      <th>user_score</th>\n",
       "      <th>rating</th>\n",
       "      <th>total_sales</th>\n",
       "    </tr>\n",
       "  </thead>\n",
       "  <tbody>\n",
       "    <tr>\n",
       "      <th>0</th>\n",
       "      <td>Wii Sports</td>\n",
       "      <td>Wii</td>\n",
       "      <td>2006</td>\n",
       "      <td>Sports</td>\n",
       "      <td>41.36</td>\n",
       "      <td>28.96</td>\n",
       "      <td>3.77</td>\n",
       "      <td>8.45</td>\n",
       "      <td>76.000000</td>\n",
       "      <td>8.000000</td>\n",
       "      <td>E</td>\n",
       "      <td>82.54</td>\n",
       "    </tr>\n",
       "    <tr>\n",
       "      <th>1</th>\n",
       "      <td>Super Mario Bros.</td>\n",
       "      <td>NES</td>\n",
       "      <td>1985</td>\n",
       "      <td>Platform</td>\n",
       "      <td>29.08</td>\n",
       "      <td>3.58</td>\n",
       "      <td>6.81</td>\n",
       "      <td>0.77</td>\n",
       "      <td>68.967679</td>\n",
       "      <td>7.125046</td>\n",
       "      <td>E</td>\n",
       "      <td>40.24</td>\n",
       "    </tr>\n",
       "    <tr>\n",
       "      <th>2</th>\n",
       "      <td>Mario Kart Wii</td>\n",
       "      <td>Wii</td>\n",
       "      <td>2008</td>\n",
       "      <td>Racing</td>\n",
       "      <td>15.68</td>\n",
       "      <td>12.76</td>\n",
       "      <td>3.79</td>\n",
       "      <td>3.29</td>\n",
       "      <td>82.000000</td>\n",
       "      <td>8.300000</td>\n",
       "      <td>E</td>\n",
       "      <td>35.52</td>\n",
       "    </tr>\n",
       "    <tr>\n",
       "      <th>3</th>\n",
       "      <td>Wii Sports Resort</td>\n",
       "      <td>Wii</td>\n",
       "      <td>2009</td>\n",
       "      <td>Sports</td>\n",
       "      <td>15.61</td>\n",
       "      <td>10.93</td>\n",
       "      <td>3.28</td>\n",
       "      <td>2.95</td>\n",
       "      <td>80.000000</td>\n",
       "      <td>8.000000</td>\n",
       "      <td>E</td>\n",
       "      <td>32.77</td>\n",
       "    </tr>\n",
       "    <tr>\n",
       "      <th>4</th>\n",
       "      <td>Pokemon Red/Pokemon Blue</td>\n",
       "      <td>GB</td>\n",
       "      <td>1996</td>\n",
       "      <td>Role-Playing</td>\n",
       "      <td>11.27</td>\n",
       "      <td>8.89</td>\n",
       "      <td>10.22</td>\n",
       "      <td>1.00</td>\n",
       "      <td>68.967679</td>\n",
       "      <td>7.125046</td>\n",
       "      <td>E</td>\n",
       "      <td>31.38</td>\n",
       "    </tr>\n",
       "    <tr>\n",
       "      <th>...</th>\n",
       "      <td>...</td>\n",
       "      <td>...</td>\n",
       "      <td>...</td>\n",
       "      <td>...</td>\n",
       "      <td>...</td>\n",
       "      <td>...</td>\n",
       "      <td>...</td>\n",
       "      <td>...</td>\n",
       "      <td>...</td>\n",
       "      <td>...</td>\n",
       "      <td>...</td>\n",
       "      <td>...</td>\n",
       "    </tr>\n",
       "    <tr>\n",
       "      <th>16181</th>\n",
       "      <td>Sakura Sakura: Haru Urara</td>\n",
       "      <td>PSP</td>\n",
       "      <td>2010</td>\n",
       "      <td>Adventure</td>\n",
       "      <td>0.00</td>\n",
       "      <td>0.00</td>\n",
       "      <td>0.01</td>\n",
       "      <td>0.00</td>\n",
       "      <td>68.967679</td>\n",
       "      <td>7.125046</td>\n",
       "      <td>M</td>\n",
       "      <td>0.01</td>\n",
       "    </tr>\n",
       "    <tr>\n",
       "      <th>16182</th>\n",
       "      <td>Rocksmith 2014 Edition Remastered</td>\n",
       "      <td>XOne</td>\n",
       "      <td>2016</td>\n",
       "      <td>Misc</td>\n",
       "      <td>0.01</td>\n",
       "      <td>0.00</td>\n",
       "      <td>0.00</td>\n",
       "      <td>0.00</td>\n",
       "      <td>68.967679</td>\n",
       "      <td>7.125046</td>\n",
       "      <td>T</td>\n",
       "      <td>0.01</td>\n",
       "    </tr>\n",
       "    <tr>\n",
       "      <th>16714</th>\n",
       "      <td>Winning Post 8 2016</td>\n",
       "      <td>PSV</td>\n",
       "      <td>2016</td>\n",
       "      <td>Simulation</td>\n",
       "      <td>0.00</td>\n",
       "      <td>0.00</td>\n",
       "      <td>0.01</td>\n",
       "      <td>0.00</td>\n",
       "      <td>68.967679</td>\n",
       "      <td>7.125046</td>\n",
       "      <td>M</td>\n",
       "      <td>0.01</td>\n",
       "    </tr>\n",
       "    <tr>\n",
       "      <th>16676</th>\n",
       "      <td>G1 Jockey 4 2008</td>\n",
       "      <td>PS3</td>\n",
       "      <td>2008</td>\n",
       "      <td>Sports</td>\n",
       "      <td>0.00</td>\n",
       "      <td>0.00</td>\n",
       "      <td>0.00</td>\n",
       "      <td>0.00</td>\n",
       "      <td>68.967679</td>\n",
       "      <td>7.125046</td>\n",
       "      <td>M</td>\n",
       "      <td>0.00</td>\n",
       "    </tr>\n",
       "    <tr>\n",
       "      <th>16709</th>\n",
       "      <td>SCORE International Baja 1000: The Official Game</td>\n",
       "      <td>PS2</td>\n",
       "      <td>2008</td>\n",
       "      <td>Racing</td>\n",
       "      <td>0.00</td>\n",
       "      <td>0.00</td>\n",
       "      <td>0.00</td>\n",
       "      <td>0.00</td>\n",
       "      <td>68.967679</td>\n",
       "      <td>7.125046</td>\n",
       "      <td>M</td>\n",
       "      <td>0.00</td>\n",
       "    </tr>\n",
       "  </tbody>\n",
       "</table>\n",
       "<p>16713 rows × 12 columns</p>\n",
       "</div>"
      ],
      "text/plain": [
       "                                                   name platform  \\\n",
       "0                                            Wii Sports      Wii   \n",
       "1                                     Super Mario Bros.      NES   \n",
       "2                                        Mario Kart Wii      Wii   \n",
       "3                                     Wii Sports Resort      Wii   \n",
       "4                              Pokemon Red/Pokemon Blue       GB   \n",
       "...                                                 ...      ...   \n",
       "16181                         Sakura Sakura: Haru Urara      PSP   \n",
       "16182                 Rocksmith 2014 Edition Remastered     XOne   \n",
       "16714                               Winning Post 8 2016      PSV   \n",
       "16676                                  G1 Jockey 4 2008      PS3   \n",
       "16709  SCORE International Baja 1000: The Official Game      PS2   \n",
       "\n",
       "       year_of_release         genre  na_sales  eu_sales  jp_sales  \\\n",
       "0                 2006        Sports     41.36     28.96      3.77   \n",
       "1                 1985      Platform     29.08      3.58      6.81   \n",
       "2                 2008        Racing     15.68     12.76      3.79   \n",
       "3                 2009        Sports     15.61     10.93      3.28   \n",
       "4                 1996  Role-Playing     11.27      8.89     10.22   \n",
       "...                ...           ...       ...       ...       ...   \n",
       "16181             2010     Adventure      0.00      0.00      0.01   \n",
       "16182             2016          Misc      0.01      0.00      0.00   \n",
       "16714             2016    Simulation      0.00      0.00      0.01   \n",
       "16676             2008        Sports      0.00      0.00      0.00   \n",
       "16709             2008        Racing      0.00      0.00      0.00   \n",
       "\n",
       "       other_sales  critic_score  user_score rating  total_sales  \n",
       "0             8.45     76.000000    8.000000      E        82.54  \n",
       "1             0.77     68.967679    7.125046      E        40.24  \n",
       "2             3.29     82.000000    8.300000      E        35.52  \n",
       "3             2.95     80.000000    8.000000      E        32.77  \n",
       "4             1.00     68.967679    7.125046      E        31.38  \n",
       "...            ...           ...         ...    ...          ...  \n",
       "16181         0.00     68.967679    7.125046      M         0.01  \n",
       "16182         0.00     68.967679    7.125046      T         0.01  \n",
       "16714         0.00     68.967679    7.125046      M         0.01  \n",
       "16676         0.00     68.967679    7.125046      M         0.00  \n",
       "16709         0.00     68.967679    7.125046      M         0.00  \n",
       "\n",
       "[16713 rows x 12 columns]"
      ]
     },
     "execution_count": 15,
     "metadata": {},
     "output_type": "execute_result"
    }
   ],
   "source": [
    "# Calcule o total de vendas (a soma das vendas em todas as regiões) para cada jogo e coloque esses valores em uma coluna separada.\n",
    "\n",
    "df['total_sales'] = (df['na_sales'] + df['eu_sales'] + df['jp_sales'] + df['other_sales'])\n",
    "df = df.sort_values(by='total_sales', ascending=False)\n",
    "df"
   ]
  },
  {
   "cell_type": "markdown",
   "metadata": {},
   "source": [
    "Obs: Aqui foi feito a soma das vendas em todas as regiões para cada jogo e colocado em uma coluna separada."
   ]
  },
  {
   "cell_type": "markdown",
   "metadata": {},
   "source": [
    "# Análise Exploratoria de Dados (EDA)"
   ]
  },
  {
   "cell_type": "code",
   "execution_count": 16,
   "metadata": {},
   "outputs": [
    {
     "data": {
      "text/html": [
       "<div>\n",
       "<style scoped>\n",
       "    .dataframe tbody tr th:only-of-type {\n",
       "        vertical-align: middle;\n",
       "    }\n",
       "\n",
       "    .dataframe tbody tr th {\n",
       "        vertical-align: top;\n",
       "    }\n",
       "\n",
       "    .dataframe thead th {\n",
       "        text-align: right;\n",
       "    }\n",
       "</style>\n",
       "<table border=\"1\" class=\"dataframe\">\n",
       "  <thead>\n",
       "    <tr style=\"text-align: right;\">\n",
       "      <th></th>\n",
       "      <th>name</th>\n",
       "      <th>platform</th>\n",
       "      <th>year_of_release</th>\n",
       "      <th>genre</th>\n",
       "      <th>na_sales</th>\n",
       "      <th>eu_sales</th>\n",
       "      <th>jp_sales</th>\n",
       "      <th>other_sales</th>\n",
       "      <th>critic_score</th>\n",
       "      <th>user_score</th>\n",
       "      <th>rating</th>\n",
       "      <th>total_sales</th>\n",
       "    </tr>\n",
       "  </thead>\n",
       "  <tbody>\n",
       "    <tr>\n",
       "      <th>0</th>\n",
       "      <td>Wii Sports</td>\n",
       "      <td>Wii</td>\n",
       "      <td>2006</td>\n",
       "      <td>Sports</td>\n",
       "      <td>41.36</td>\n",
       "      <td>28.96</td>\n",
       "      <td>3.77</td>\n",
       "      <td>8.45</td>\n",
       "      <td>76.000000</td>\n",
       "      <td>8.000000</td>\n",
       "      <td>E</td>\n",
       "      <td>82.54</td>\n",
       "    </tr>\n",
       "    <tr>\n",
       "      <th>1</th>\n",
       "      <td>Super Mario Bros.</td>\n",
       "      <td>NES</td>\n",
       "      <td>1985</td>\n",
       "      <td>Platform</td>\n",
       "      <td>29.08</td>\n",
       "      <td>3.58</td>\n",
       "      <td>6.81</td>\n",
       "      <td>0.77</td>\n",
       "      <td>68.967679</td>\n",
       "      <td>7.125046</td>\n",
       "      <td>E</td>\n",
       "      <td>40.24</td>\n",
       "    </tr>\n",
       "    <tr>\n",
       "      <th>2</th>\n",
       "      <td>Mario Kart Wii</td>\n",
       "      <td>Wii</td>\n",
       "      <td>2008</td>\n",
       "      <td>Racing</td>\n",
       "      <td>15.68</td>\n",
       "      <td>12.76</td>\n",
       "      <td>3.79</td>\n",
       "      <td>3.29</td>\n",
       "      <td>82.000000</td>\n",
       "      <td>8.300000</td>\n",
       "      <td>E</td>\n",
       "      <td>35.52</td>\n",
       "    </tr>\n",
       "    <tr>\n",
       "      <th>3</th>\n",
       "      <td>Wii Sports Resort</td>\n",
       "      <td>Wii</td>\n",
       "      <td>2009</td>\n",
       "      <td>Sports</td>\n",
       "      <td>15.61</td>\n",
       "      <td>10.93</td>\n",
       "      <td>3.28</td>\n",
       "      <td>2.95</td>\n",
       "      <td>80.000000</td>\n",
       "      <td>8.000000</td>\n",
       "      <td>E</td>\n",
       "      <td>32.77</td>\n",
       "    </tr>\n",
       "    <tr>\n",
       "      <th>4</th>\n",
       "      <td>Pokemon Red/Pokemon Blue</td>\n",
       "      <td>GB</td>\n",
       "      <td>1996</td>\n",
       "      <td>Role-Playing</td>\n",
       "      <td>11.27</td>\n",
       "      <td>8.89</td>\n",
       "      <td>10.22</td>\n",
       "      <td>1.00</td>\n",
       "      <td>68.967679</td>\n",
       "      <td>7.125046</td>\n",
       "      <td>E</td>\n",
       "      <td>31.38</td>\n",
       "    </tr>\n",
       "    <tr>\n",
       "      <th>5</th>\n",
       "      <td>Tetris</td>\n",
       "      <td>GB</td>\n",
       "      <td>1989</td>\n",
       "      <td>Puzzle</td>\n",
       "      <td>23.20</td>\n",
       "      <td>2.26</td>\n",
       "      <td>4.22</td>\n",
       "      <td>0.58</td>\n",
       "      <td>68.967679</td>\n",
       "      <td>7.125046</td>\n",
       "      <td>E</td>\n",
       "      <td>30.26</td>\n",
       "    </tr>\n",
       "    <tr>\n",
       "      <th>6</th>\n",
       "      <td>New Super Mario Bros.</td>\n",
       "      <td>DS</td>\n",
       "      <td>2006</td>\n",
       "      <td>Platform</td>\n",
       "      <td>11.28</td>\n",
       "      <td>9.14</td>\n",
       "      <td>6.50</td>\n",
       "      <td>2.88</td>\n",
       "      <td>89.000000</td>\n",
       "      <td>8.500000</td>\n",
       "      <td>E</td>\n",
       "      <td>29.80</td>\n",
       "    </tr>\n",
       "    <tr>\n",
       "      <th>7</th>\n",
       "      <td>Wii Play</td>\n",
       "      <td>Wii</td>\n",
       "      <td>2006</td>\n",
       "      <td>Misc</td>\n",
       "      <td>13.96</td>\n",
       "      <td>9.18</td>\n",
       "      <td>2.93</td>\n",
       "      <td>2.84</td>\n",
       "      <td>58.000000</td>\n",
       "      <td>6.600000</td>\n",
       "      <td>E</td>\n",
       "      <td>28.91</td>\n",
       "    </tr>\n",
       "    <tr>\n",
       "      <th>8</th>\n",
       "      <td>New Super Mario Bros. Wii</td>\n",
       "      <td>Wii</td>\n",
       "      <td>2009</td>\n",
       "      <td>Platform</td>\n",
       "      <td>14.44</td>\n",
       "      <td>6.94</td>\n",
       "      <td>4.70</td>\n",
       "      <td>2.24</td>\n",
       "      <td>87.000000</td>\n",
       "      <td>8.400000</td>\n",
       "      <td>E</td>\n",
       "      <td>28.32</td>\n",
       "    </tr>\n",
       "    <tr>\n",
       "      <th>9</th>\n",
       "      <td>Duck Hunt</td>\n",
       "      <td>NES</td>\n",
       "      <td>1984</td>\n",
       "      <td>Shooter</td>\n",
       "      <td>26.93</td>\n",
       "      <td>0.63</td>\n",
       "      <td>0.28</td>\n",
       "      <td>0.47</td>\n",
       "      <td>68.967679</td>\n",
       "      <td>7.125046</td>\n",
       "      <td>E</td>\n",
       "      <td>28.31</td>\n",
       "    </tr>\n",
       "  </tbody>\n",
       "</table>\n",
       "</div>"
      ],
      "text/plain": [
       "                        name platform  year_of_release         genre  \\\n",
       "0                 Wii Sports      Wii             2006        Sports   \n",
       "1          Super Mario Bros.      NES             1985      Platform   \n",
       "2             Mario Kart Wii      Wii             2008        Racing   \n",
       "3          Wii Sports Resort      Wii             2009        Sports   \n",
       "4   Pokemon Red/Pokemon Blue       GB             1996  Role-Playing   \n",
       "5                     Tetris       GB             1989        Puzzle   \n",
       "6      New Super Mario Bros.       DS             2006      Platform   \n",
       "7                   Wii Play      Wii             2006          Misc   \n",
       "8  New Super Mario Bros. Wii      Wii             2009      Platform   \n",
       "9                  Duck Hunt      NES             1984       Shooter   \n",
       "\n",
       "   na_sales  eu_sales  jp_sales  other_sales  critic_score  user_score rating  \\\n",
       "0     41.36     28.96      3.77         8.45     76.000000    8.000000      E   \n",
       "1     29.08      3.58      6.81         0.77     68.967679    7.125046      E   \n",
       "2     15.68     12.76      3.79         3.29     82.000000    8.300000      E   \n",
       "3     15.61     10.93      3.28         2.95     80.000000    8.000000      E   \n",
       "4     11.27      8.89     10.22         1.00     68.967679    7.125046      E   \n",
       "5     23.20      2.26      4.22         0.58     68.967679    7.125046      E   \n",
       "6     11.28      9.14      6.50         2.88     89.000000    8.500000      E   \n",
       "7     13.96      9.18      2.93         2.84     58.000000    6.600000      E   \n",
       "8     14.44      6.94      4.70         2.24     87.000000    8.400000      E   \n",
       "9     26.93      0.63      0.28         0.47     68.967679    7.125046      E   \n",
       "\n",
       "   total_sales  \n",
       "0        82.54  \n",
       "1        40.24  \n",
       "2        35.52  \n",
       "3        32.77  \n",
       "4        31.38  \n",
       "5        30.26  \n",
       "6        29.80  \n",
       "7        28.91  \n",
       "8        28.32  \n",
       "9        28.31  "
      ]
     },
     "execution_count": 16,
     "metadata": {},
     "output_type": "execute_result"
    }
   ],
   "source": [
    "# Visualizando os dados\n",
    "df.head(10)"
   ]
  },
  {
   "cell_type": "code",
   "execution_count": 17,
   "metadata": {},
   "outputs": [
    {
     "data": {
      "text/plain": [
       "year_of_release\n",
       "2016     502\n",
       "2015     606\n",
       "2014     581\n",
       "2013     548\n",
       "2012     662\n",
       "2011    1154\n",
       "2010    1269\n",
       "2009    1430\n",
       "2008    1441\n",
       "2007    1202\n",
       "2006    1038\n",
       "2005     971\n",
       "2004     770\n",
       "2003     783\n",
       "2002     845\n",
       "2001     490\n",
       "2000     372\n",
       "1999     339\n",
       "1998     379\n",
       "1997     311\n",
       "1996     264\n",
       "1995     219\n",
       "1994     129\n",
       "1993      60\n",
       "1992      43\n",
       "1991      41\n",
       "1990      16\n",
       "1989      17\n",
       "1988      16\n",
       "1987      16\n",
       "1986      21\n",
       "1985      40\n",
       "1984      14\n",
       "1983      17\n",
       "1982      36\n",
       "1981      46\n",
       "1980      25\n",
       "Name: count, dtype: int64"
      ]
     },
     "execution_count": 17,
     "metadata": {},
     "output_type": "execute_result"
    }
   ],
   "source": [
    "# Veja quantos jogos foram lançados em anos diferentes. Os dados de cada período são significativos?\n",
    "df['year_of_release'].value_counts().sort_index(ascending=False)\n",
    "\n"
   ]
  },
  {
   "cell_type": "code",
   "execution_count": 18,
   "metadata": {},
   "outputs": [
    {
     "data": {
      "image/png": "[encoded data removed]",
      "text/plain": [
       "<Figure size 1200x600 with 1 Axes>"
      ]
     },
     "metadata": {},
     "output_type": "display_data"
    }
   ],
   "source": [
    "# Gráfico para facilitar a visualização dos dados\n",
    "df['year_of_release'].value_counts().sort_index().plot(kind='bar', figsize=(12, 6));\n",
    "\n",
    "plt.title('Número de Lançamentos por Ano')\n",
    "plt.xlabel('Ano de Lançamento')\n",
    "plt.ylabel('Contagem')\n",
    "plt.show()"
   ]
  },
  {
   "cell_type": "markdown",
   "metadata": {},
   "source": [
    "Obs: Sim, existe uma variação de lançamentos muito grande de ano para ano."
   ]
  },
  {
   "cell_type": "code",
   "execution_count": 19,
   "metadata": {
    "scrolled": false
   },
   "outputs": [
    {
     "data": {
      "text/html": [
       "<div>\n",
       "<style scoped>\n",
       "    .dataframe tbody tr th:only-of-type {\n",
       "        vertical-align: middle;\n",
       "    }\n",
       "\n",
       "    .dataframe tbody tr th {\n",
       "        vertical-align: top;\n",
       "    }\n",
       "\n",
       "    .dataframe thead th {\n",
       "        text-align: right;\n",
       "    }\n",
       "</style>\n",
       "<table border=\"1\" class=\"dataframe\">\n",
       "  <thead>\n",
       "    <tr style=\"text-align: right;\">\n",
       "      <th></th>\n",
       "      <th>platform</th>\n",
       "      <th>total_sales</th>\n",
       "    </tr>\n",
       "  </thead>\n",
       "  <tbody>\n",
       "    <tr>\n",
       "      <th>16</th>\n",
       "      <td>PS2</td>\n",
       "      <td>1255.77</td>\n",
       "    </tr>\n",
       "    <tr>\n",
       "      <th>28</th>\n",
       "      <td>X360</td>\n",
       "      <td>971.42</td>\n",
       "    </tr>\n",
       "    <tr>\n",
       "      <th>17</th>\n",
       "      <td>PS3</td>\n",
       "      <td>939.65</td>\n",
       "    </tr>\n",
       "    <tr>\n",
       "      <th>26</th>\n",
       "      <td>Wii</td>\n",
       "      <td>907.51</td>\n",
       "    </tr>\n",
       "    <tr>\n",
       "      <th>4</th>\n",
       "      <td>DS</td>\n",
       "      <td>806.12</td>\n",
       "    </tr>\n",
       "    <tr>\n",
       "      <th>15</th>\n",
       "      <td>PS</td>\n",
       "      <td>730.86</td>\n",
       "    </tr>\n",
       "    <tr>\n",
       "      <th>6</th>\n",
       "      <td>GBA</td>\n",
       "      <td>317.85</td>\n",
       "    </tr>\n",
       "    <tr>\n",
       "      <th>18</th>\n",
       "      <td>PS4</td>\n",
       "      <td>314.14</td>\n",
       "    </tr>\n",
       "    <tr>\n",
       "      <th>19</th>\n",
       "      <td>PSP</td>\n",
       "      <td>294.05</td>\n",
       "    </tr>\n",
       "    <tr>\n",
       "      <th>13</th>\n",
       "      <td>PC</td>\n",
       "      <td>259.52</td>\n",
       "    </tr>\n",
       "    <tr>\n",
       "      <th>2</th>\n",
       "      <td>3DS</td>\n",
       "      <td>259.00</td>\n",
       "    </tr>\n",
       "    <tr>\n",
       "      <th>29</th>\n",
       "      <td>XB</td>\n",
       "      <td>257.74</td>\n",
       "    </tr>\n",
       "    <tr>\n",
       "      <th>5</th>\n",
       "      <td>GB</td>\n",
       "      <td>255.46</td>\n",
       "    </tr>\n",
       "    <tr>\n",
       "      <th>11</th>\n",
       "      <td>NES</td>\n",
       "      <td>251.05</td>\n",
       "    </tr>\n",
       "    <tr>\n",
       "      <th>10</th>\n",
       "      <td>N64</td>\n",
       "      <td>218.68</td>\n",
       "    </tr>\n",
       "    <tr>\n",
       "      <th>23</th>\n",
       "      <td>SNES</td>\n",
       "      <td>200.04</td>\n",
       "    </tr>\n",
       "    <tr>\n",
       "      <th>7</th>\n",
       "      <td>GC</td>\n",
       "      <td>198.93</td>\n",
       "    </tr>\n",
       "    <tr>\n",
       "      <th>30</th>\n",
       "      <td>XOne</td>\n",
       "      <td>159.32</td>\n",
       "    </tr>\n",
       "    <tr>\n",
       "      <th>0</th>\n",
       "      <td>2600</td>\n",
       "      <td>96.98</td>\n",
       "    </tr>\n",
       "    <tr>\n",
       "      <th>27</th>\n",
       "      <td>WiiU</td>\n",
       "      <td>82.19</td>\n",
       "    </tr>\n",
       "    <tr>\n",
       "      <th>20</th>\n",
       "      <td>PSV</td>\n",
       "      <td>54.07</td>\n",
       "    </tr>\n",
       "    <tr>\n",
       "      <th>21</th>\n",
       "      <td>SAT</td>\n",
       "      <td>33.59</td>\n",
       "    </tr>\n",
       "    <tr>\n",
       "      <th>8</th>\n",
       "      <td>GEN</td>\n",
       "      <td>28.35</td>\n",
       "    </tr>\n",
       "    <tr>\n",
       "      <th>3</th>\n",
       "      <td>DC</td>\n",
       "      <td>15.95</td>\n",
       "    </tr>\n",
       "    <tr>\n",
       "      <th>22</th>\n",
       "      <td>SCD</td>\n",
       "      <td>1.86</td>\n",
       "    </tr>\n",
       "    <tr>\n",
       "      <th>12</th>\n",
       "      <td>NG</td>\n",
       "      <td>1.44</td>\n",
       "    </tr>\n",
       "    <tr>\n",
       "      <th>25</th>\n",
       "      <td>WS</td>\n",
       "      <td>1.42</td>\n",
       "    </tr>\n",
       "    <tr>\n",
       "      <th>24</th>\n",
       "      <td>TG16</td>\n",
       "      <td>0.16</td>\n",
       "    </tr>\n",
       "    <tr>\n",
       "      <th>1</th>\n",
       "      <td>3DO</td>\n",
       "      <td>0.10</td>\n",
       "    </tr>\n",
       "    <tr>\n",
       "      <th>9</th>\n",
       "      <td>GG</td>\n",
       "      <td>0.04</td>\n",
       "    </tr>\n",
       "    <tr>\n",
       "      <th>14</th>\n",
       "      <td>PCFX</td>\n",
       "      <td>0.03</td>\n",
       "    </tr>\n",
       "  </tbody>\n",
       "</table>\n",
       "</div>"
      ],
      "text/plain": [
       "   platform  total_sales\n",
       "16      PS2      1255.77\n",
       "28     X360       971.42\n",
       "17      PS3       939.65\n",
       "26      Wii       907.51\n",
       "4        DS       806.12\n",
       "15       PS       730.86\n",
       "6       GBA       317.85\n",
       "18      PS4       314.14\n",
       "19      PSP       294.05\n",
       "13       PC       259.52\n",
       "2       3DS       259.00\n",
       "29       XB       257.74\n",
       "5        GB       255.46\n",
       "11      NES       251.05\n",
       "10      N64       218.68\n",
       "23     SNES       200.04\n",
       "7        GC       198.93\n",
       "30     XOne       159.32\n",
       "0      2600        96.98\n",
       "27     WiiU        82.19\n",
       "20      PSV        54.07\n",
       "21      SAT        33.59\n",
       "8       GEN        28.35\n",
       "3        DC        15.95\n",
       "22      SCD         1.86\n",
       "12       NG         1.44\n",
       "25       WS         1.42\n",
       "24     TG16         0.16\n",
       "1       3DO         0.10\n",
       "9        GG         0.04\n",
       "14     PCFX         0.03"
      ]
     },
     "execution_count": 19,
     "metadata": {},
     "output_type": "execute_result"
    }
   ],
   "source": [
    "# Veja como as vendas variaram de plataforma para plataforma.\n",
    "# Verificando as vendas totais de cada plataforma\n",
    "tot_sales_for_platform = df.groupby('platform')['total_sales', ].sum().reset_index()\n",
    "tot_sales_for_platform = tot_sales_for_platform.sort_values(by='total_sales', ascending=False)\n",
    "tot_sales_for_platform"
   ]
  },
  {
   "cell_type": "code",
   "execution_count": 20,
   "metadata": {
    "scrolled": false
   },
   "outputs": [
    {
     "data": {
      "image/png": "[encoded data removed]",
      "text/plain": [
       "<Figure size 1200x600 with 1 Axes>"
      ]
     },
     "metadata": {},
     "output_type": "display_data"
    }
   ],
   "source": [
    "# Criando gráfico para facilitar a visualização dos dados\n",
    "df['platform'].value_counts().plot(kind='bar', figsize=(12, 6));"
   ]
  },
  {
   "cell_type": "code",
   "execution_count": 21,
   "metadata": {
    "scrolled": false
   },
   "outputs": [
    {
     "data": {
      "image/png": "[encoded data removed]",
      "text/plain": [
       "<Figure size 1800x800 with 1 Axes>"
      ]
     },
     "metadata": {},
     "output_type": "display_data"
    }
   ],
   "source": [
    "# Escolha as plataformas com as maiores vendas totais e construa uma distribuição com base em dados para cada ano\n",
    "# Selecionando as 5 plataformas com maior número de vendas e fazendo um gráfico que mostra a distribuição dos dados com base no ano.\n",
    "\n",
    "top_5_platform = ['PS2', 'X360', 'PS3', 'Wii', 'DS'] # selecionando as plataformas\n",
    "df_filtrado = df[df['platform'].isin(top_5_platform)] # riando o df com as plaformas de meu interesse\n",
    "\n",
    "\n",
    "df_filtrado.pivot_table(index='year_of_release', columns='platform', values='total_sales', aggfunc='sum').plot(kind='bar',figsize=(18, 8))\n",
    "plt.title('Distribuição de Vendas Top 5 Plataformas por Ano')\n",
    "plt.xlabel('Year')\n",
    "plt.ylabel('Total Sales')\n",
    "plt.legend(title='Plataforma', loc='upper right')\n",
    "plt.show()\n"
   ]
  },
  {
   "cell_type": "markdown",
   "metadata": {},
   "source": [
    "### Encontre as plataformas que costumavam ser populares, mas agora não têm vendas.\n",
    "\n",
    "Obs: Observando o gráfico acima podemos ver claramente que:\n",
    "\n",
    "\n",
    "- O PS2 teve sua popularidade entre os anos 2000 - 2010\n",
    "\n",
    "- O DS teve sua popularidade entre os anos 2004 - 2013\n",
    "\n",
    "- O PS3 teve sua popularidade entre os anos 2006 - 2016\n",
    "\n",
    "- O Wii teve sua popularidade entre os anos 2006 - 2014\n",
    "\n",
    "- O X360 teve sua popularidade entre os anos 2006 - 2016\n",
    "\n",
    "Obs: Tendo em vista as plataformas e os anos de seus auges podemos concluir que o PS2, DS e o Wii eram populares mas agora estão fora da vista dos jogadores."
   ]
  },
  {
   "cell_type": "markdown",
   "metadata": {},
   "source": [
    "### Quanto tempo leva para as novas plataformas aparecerem e as antigas desaparecerem?\n",
    "\n",
    "Obs: Com base nos nossos dados podemos observar que as plataformas antigas levam em média 8 anos para desaparecem e as novas levam em média 7 anos e meio."
   ]
  },
  {
   "cell_type": "code",
   "execution_count": 22,
   "metadata": {},
   "outputs": [
    {
     "data": {
      "text/plain": [
       "plataforma_nova\n",
       "0    8.0\n",
       "1    7.5\n",
       "Name: tempo_de_vida, dtype: float64"
      ]
     },
     "execution_count": 22,
     "metadata": {},
     "output_type": "execute_result"
    }
   ],
   "source": [
    "df_aux = df.groupby('platform')['year_of_release'].agg(['min', 'max']).reset_index().sort_values(by='min')\n",
    "df_aux['tempo_de_vida'] = df_aux['max'] - df_aux['min']\n",
    "df_aux['plataforma_nova'] = df_aux['min'].apply(lambda x: 1 if x >= 2000 else 0)\n",
    "df_aux.groupby(['plataforma_nova'])['tempo_de_vida'].median()"
   ]
  },
  {
   "cell_type": "code",
   "execution_count": 23,
   "metadata": {},
   "outputs": [
    {
     "data": {
      "text/html": [
       "<div>\n",
       "<style scoped>\n",
       "    .dataframe tbody tr th:only-of-type {\n",
       "        vertical-align: middle;\n",
       "    }\n",
       "\n",
       "    .dataframe tbody tr th {\n",
       "        vertical-align: top;\n",
       "    }\n",
       "\n",
       "    .dataframe thead th {\n",
       "        text-align: right;\n",
       "    }\n",
       "</style>\n",
       "<table border=\"1\" class=\"dataframe\">\n",
       "  <thead>\n",
       "    <tr style=\"text-align: right;\">\n",
       "      <th></th>\n",
       "      <th>platform</th>\n",
       "      <th>min</th>\n",
       "      <th>max</th>\n",
       "      <th>tempo_de_vida</th>\n",
       "      <th>plataforma_nova</th>\n",
       "    </tr>\n",
       "  </thead>\n",
       "  <tbody>\n",
       "    <tr>\n",
       "      <th>0</th>\n",
       "      <td>2600</td>\n",
       "      <td>1980</td>\n",
       "      <td>1994</td>\n",
       "      <td>14</td>\n",
       "      <td>0</td>\n",
       "    </tr>\n",
       "    <tr>\n",
       "      <th>11</th>\n",
       "      <td>NES</td>\n",
       "      <td>1983</td>\n",
       "      <td>1994</td>\n",
       "      <td>11</td>\n",
       "      <td>0</td>\n",
       "    </tr>\n",
       "    <tr>\n",
       "      <th>4</th>\n",
       "      <td>DS</td>\n",
       "      <td>1985</td>\n",
       "      <td>2013</td>\n",
       "      <td>28</td>\n",
       "      <td>0</td>\n",
       "    </tr>\n",
       "    <tr>\n",
       "      <th>13</th>\n",
       "      <td>PC</td>\n",
       "      <td>1985</td>\n",
       "      <td>2016</td>\n",
       "      <td>31</td>\n",
       "      <td>0</td>\n",
       "    </tr>\n",
       "    <tr>\n",
       "      <th>5</th>\n",
       "      <td>GB</td>\n",
       "      <td>1988</td>\n",
       "      <td>2001</td>\n",
       "      <td>13</td>\n",
       "      <td>0</td>\n",
       "    </tr>\n",
       "    <tr>\n",
       "      <th>23</th>\n",
       "      <td>SNES</td>\n",
       "      <td>1990</td>\n",
       "      <td>1999</td>\n",
       "      <td>9</td>\n",
       "      <td>0</td>\n",
       "    </tr>\n",
       "    <tr>\n",
       "      <th>8</th>\n",
       "      <td>GEN</td>\n",
       "      <td>1990</td>\n",
       "      <td>1994</td>\n",
       "      <td>4</td>\n",
       "      <td>0</td>\n",
       "    </tr>\n",
       "    <tr>\n",
       "      <th>9</th>\n",
       "      <td>GG</td>\n",
       "      <td>1992</td>\n",
       "      <td>1992</td>\n",
       "      <td>0</td>\n",
       "      <td>0</td>\n",
       "    </tr>\n",
       "    <tr>\n",
       "      <th>22</th>\n",
       "      <td>SCD</td>\n",
       "      <td>1993</td>\n",
       "      <td>1994</td>\n",
       "      <td>1</td>\n",
       "      <td>0</td>\n",
       "    </tr>\n",
       "    <tr>\n",
       "      <th>12</th>\n",
       "      <td>NG</td>\n",
       "      <td>1993</td>\n",
       "      <td>1996</td>\n",
       "      <td>3</td>\n",
       "      <td>0</td>\n",
       "    </tr>\n",
       "    <tr>\n",
       "      <th>21</th>\n",
       "      <td>SAT</td>\n",
       "      <td>1994</td>\n",
       "      <td>1999</td>\n",
       "      <td>5</td>\n",
       "      <td>0</td>\n",
       "    </tr>\n",
       "    <tr>\n",
       "      <th>15</th>\n",
       "      <td>PS</td>\n",
       "      <td>1994</td>\n",
       "      <td>2003</td>\n",
       "      <td>9</td>\n",
       "      <td>0</td>\n",
       "    </tr>\n",
       "    <tr>\n",
       "      <th>1</th>\n",
       "      <td>3DO</td>\n",
       "      <td>1994</td>\n",
       "      <td>1995</td>\n",
       "      <td>1</td>\n",
       "      <td>0</td>\n",
       "    </tr>\n",
       "    <tr>\n",
       "      <th>24</th>\n",
       "      <td>TG16</td>\n",
       "      <td>1995</td>\n",
       "      <td>1995</td>\n",
       "      <td>0</td>\n",
       "      <td>0</td>\n",
       "    </tr>\n",
       "    <tr>\n",
       "      <th>14</th>\n",
       "      <td>PCFX</td>\n",
       "      <td>1996</td>\n",
       "      <td>1996</td>\n",
       "      <td>0</td>\n",
       "      <td>0</td>\n",
       "    </tr>\n",
       "    <tr>\n",
       "      <th>10</th>\n",
       "      <td>N64</td>\n",
       "      <td>1996</td>\n",
       "      <td>2004</td>\n",
       "      <td>8</td>\n",
       "      <td>0</td>\n",
       "    </tr>\n",
       "    <tr>\n",
       "      <th>16</th>\n",
       "      <td>PS2</td>\n",
       "      <td>1997</td>\n",
       "      <td>2011</td>\n",
       "      <td>14</td>\n",
       "      <td>0</td>\n",
       "    </tr>\n",
       "    <tr>\n",
       "      <th>3</th>\n",
       "      <td>DC</td>\n",
       "      <td>1998</td>\n",
       "      <td>2008</td>\n",
       "      <td>10</td>\n",
       "      <td>0</td>\n",
       "    </tr>\n",
       "    <tr>\n",
       "      <th>25</th>\n",
       "      <td>WS</td>\n",
       "      <td>1999</td>\n",
       "      <td>2001</td>\n",
       "      <td>2</td>\n",
       "      <td>0</td>\n",
       "    </tr>\n",
       "    <tr>\n",
       "      <th>6</th>\n",
       "      <td>GBA</td>\n",
       "      <td>2000</td>\n",
       "      <td>2007</td>\n",
       "      <td>7</td>\n",
       "      <td>1</td>\n",
       "    </tr>\n",
       "    <tr>\n",
       "      <th>29</th>\n",
       "      <td>XB</td>\n",
       "      <td>2000</td>\n",
       "      <td>2008</td>\n",
       "      <td>8</td>\n",
       "      <td>1</td>\n",
       "    </tr>\n",
       "    <tr>\n",
       "      <th>2</th>\n",
       "      <td>3DS</td>\n",
       "      <td>2000</td>\n",
       "      <td>2016</td>\n",
       "      <td>16</td>\n",
       "      <td>1</td>\n",
       "    </tr>\n",
       "    <tr>\n",
       "      <th>7</th>\n",
       "      <td>GC</td>\n",
       "      <td>2001</td>\n",
       "      <td>2007</td>\n",
       "      <td>6</td>\n",
       "      <td>1</td>\n",
       "    </tr>\n",
       "    <tr>\n",
       "      <th>19</th>\n",
       "      <td>PSP</td>\n",
       "      <td>2004</td>\n",
       "      <td>2015</td>\n",
       "      <td>11</td>\n",
       "      <td>1</td>\n",
       "    </tr>\n",
       "    <tr>\n",
       "      <th>17</th>\n",
       "      <td>PS3</td>\n",
       "      <td>2005</td>\n",
       "      <td>2016</td>\n",
       "      <td>11</td>\n",
       "      <td>1</td>\n",
       "    </tr>\n",
       "    <tr>\n",
       "      <th>28</th>\n",
       "      <td>X360</td>\n",
       "      <td>2005</td>\n",
       "      <td>2016</td>\n",
       "      <td>11</td>\n",
       "      <td>1</td>\n",
       "    </tr>\n",
       "    <tr>\n",
       "      <th>26</th>\n",
       "      <td>Wii</td>\n",
       "      <td>2006</td>\n",
       "      <td>2016</td>\n",
       "      <td>10</td>\n",
       "      <td>1</td>\n",
       "    </tr>\n",
       "    <tr>\n",
       "      <th>20</th>\n",
       "      <td>PSV</td>\n",
       "      <td>2011</td>\n",
       "      <td>2016</td>\n",
       "      <td>5</td>\n",
       "      <td>1</td>\n",
       "    </tr>\n",
       "    <tr>\n",
       "      <th>27</th>\n",
       "      <td>WiiU</td>\n",
       "      <td>2012</td>\n",
       "      <td>2016</td>\n",
       "      <td>4</td>\n",
       "      <td>1</td>\n",
       "    </tr>\n",
       "    <tr>\n",
       "      <th>18</th>\n",
       "      <td>PS4</td>\n",
       "      <td>2013</td>\n",
       "      <td>2016</td>\n",
       "      <td>3</td>\n",
       "      <td>1</td>\n",
       "    </tr>\n",
       "    <tr>\n",
       "      <th>30</th>\n",
       "      <td>XOne</td>\n",
       "      <td>2013</td>\n",
       "      <td>2016</td>\n",
       "      <td>3</td>\n",
       "      <td>1</td>\n",
       "    </tr>\n",
       "  </tbody>\n",
       "</table>\n",
       "</div>"
      ],
      "text/plain": [
       "   platform   min   max  tempo_de_vida  plataforma_nova\n",
       "0      2600  1980  1994             14                0\n",
       "11      NES  1983  1994             11                0\n",
       "4        DS  1985  2013             28                0\n",
       "13       PC  1985  2016             31                0\n",
       "5        GB  1988  2001             13                0\n",
       "23     SNES  1990  1999              9                0\n",
       "8       GEN  1990  1994              4                0\n",
       "9        GG  1992  1992              0                0\n",
       "22      SCD  1993  1994              1                0\n",
       "12       NG  1993  1996              3                0\n",
       "21      SAT  1994  1999              5                0\n",
       "15       PS  1994  2003              9                0\n",
       "1       3DO  1994  1995              1                0\n",
       "24     TG16  1995  1995              0                0\n",
       "14     PCFX  1996  1996              0                0\n",
       "10      N64  1996  2004              8                0\n",
       "16      PS2  1997  2011             14                0\n",
       "3        DC  1998  2008             10                0\n",
       "25       WS  1999  2001              2                0\n",
       "6       GBA  2000  2007              7                1\n",
       "29       XB  2000  2008              8                1\n",
       "2       3DS  2000  2016             16                1\n",
       "7        GC  2001  2007              6                1\n",
       "19      PSP  2004  2015             11                1\n",
       "17      PS3  2005  2016             11                1\n",
       "28     X360  2005  2016             11                1\n",
       "26      Wii  2006  2016             10                1\n",
       "20      PSV  2011  2016              5                1\n",
       "27     WiiU  2012  2016              4                1\n",
       "18      PS4  2013  2016              3                1\n",
       "30     XOne  2013  2016              3                1"
      ]
     },
     "execution_count": 23,
     "metadata": {},
     "output_type": "execute_result"
    }
   ],
   "source": [
    "df_aux"
   ]
  },
  {
   "cell_type": "markdown",
   "metadata": {},
   "source": [
    "### Determine para qual período você deve pegar dados. Para fazê-lo, olhe para suas respostas para as perguntas anteriores. Os dados te deveriam permitir construir um modelo para 2017.\n",
    "### Trabalhar apenas com os dados que você decidiu que são relevantes. Desconsidere os dados de anos anteriores.\n",
    "\n",
    "Obs: Com base na analise feita anteriormente, eu decidi selecionar os dados apartir do ano de 2000 considerando as plataformas mais recentes para fazer um modelo para os próximos anos"
   ]
  },
  {
   "cell_type": "markdown",
   "metadata": {},
   "source": [
    "### Quais plataformas estão liderando em vendas? Quais estão crescendo ou diminuindo? Selecione várias plataformas potencialmente lucrativas."
   ]
  },
  {
   "cell_type": "code",
   "execution_count": 24,
   "metadata": {},
   "outputs": [
    {
     "data": {
      "text/plain": [
       "platform\n",
       "PS2     1255.77\n",
       "X360     971.42\n",
       "PS3      939.65\n",
       "Wii      907.51\n",
       "DS       806.12\n",
       "PS       730.86\n",
       "GBA      317.85\n",
       "PS4      314.14\n",
       "PSP      294.05\n",
       "PC       259.52\n",
       "3DS      259.00\n",
       "XB       257.74\n",
       "GB       255.46\n",
       "NES      251.05\n",
       "N64      218.68\n",
       "SNES     200.04\n",
       "GC       198.93\n",
       "XOne     159.32\n",
       "2600      96.98\n",
       "WiiU      82.19\n",
       "PSV       54.07\n",
       "SAT       33.59\n",
       "GEN       28.35\n",
       "DC        15.95\n",
       "SCD        1.86\n",
       "NG         1.44\n",
       "WS         1.42\n",
       "TG16       0.16\n",
       "3DO        0.10\n",
       "GG         0.04\n",
       "PCFX       0.03\n",
       "Name: total_sales, dtype: float64"
      ]
     },
     "execution_count": 24,
     "metadata": {},
     "output_type": "execute_result"
    }
   ],
   "source": [
    "# Plataformas que estão liderando em vendas\n",
    "platform_leader = df.groupby('platform')['total_sales'].sum().sort_values(ascending=False)\n",
    "platform_leader"
   ]
  },
  {
   "cell_type": "code",
   "execution_count": 25,
   "metadata": {},
   "outputs": [
    {
     "data": {
      "text/plain": [
       "['PS2', 'X360', 'PS3', 'Wii', 'DS', 'PS', 'GBA', 'PS4', 'PSP', 'PC']"
      ]
     },
     "execution_count": 25,
     "metadata": {},
     "output_type": "execute_result"
    }
   ],
   "source": [
    "# Identificando as top nº plataformas lucrativas\n",
    "top_n_platform = platform_leader.head(10).index.tolist()\n",
    "top_n_platform"
   ]
  },
  {
   "cell_type": "code",
   "execution_count": 26,
   "metadata": {
    "scrolled": false
   },
   "outputs": [
    {
     "data": {
      "text/html": [
       "<div>\n",
       "<style scoped>\n",
       "    .dataframe tbody tr th:only-of-type {\n",
       "        vertical-align: middle;\n",
       "    }\n",
       "\n",
       "    .dataframe tbody tr th {\n",
       "        vertical-align: top;\n",
       "    }\n",
       "\n",
       "    .dataframe thead th {\n",
       "        text-align: right;\n",
       "    }\n",
       "</style>\n",
       "<table border=\"1\" class=\"dataframe\">\n",
       "  <thead>\n",
       "    <tr style=\"text-align: right;\">\n",
       "      <th></th>\n",
       "      <th>name</th>\n",
       "      <th>platform</th>\n",
       "      <th>year_of_release</th>\n",
       "      <th>genre</th>\n",
       "      <th>na_sales</th>\n",
       "      <th>eu_sales</th>\n",
       "      <th>jp_sales</th>\n",
       "      <th>other_sales</th>\n",
       "      <th>critic_score</th>\n",
       "      <th>user_score</th>\n",
       "      <th>rating</th>\n",
       "      <th>total_sales</th>\n",
       "    </tr>\n",
       "  </thead>\n",
       "  <tbody>\n",
       "    <tr>\n",
       "      <th>0</th>\n",
       "      <td>Wii Sports</td>\n",
       "      <td>Wii</td>\n",
       "      <td>2006</td>\n",
       "      <td>Sports</td>\n",
       "      <td>41.36</td>\n",
       "      <td>28.96</td>\n",
       "      <td>3.77</td>\n",
       "      <td>8.45</td>\n",
       "      <td>76.000000</td>\n",
       "      <td>8.000000</td>\n",
       "      <td>E</td>\n",
       "      <td>82.54</td>\n",
       "    </tr>\n",
       "    <tr>\n",
       "      <th>2</th>\n",
       "      <td>Mario Kart Wii</td>\n",
       "      <td>Wii</td>\n",
       "      <td>2008</td>\n",
       "      <td>Racing</td>\n",
       "      <td>15.68</td>\n",
       "      <td>12.76</td>\n",
       "      <td>3.79</td>\n",
       "      <td>3.29</td>\n",
       "      <td>82.000000</td>\n",
       "      <td>8.300000</td>\n",
       "      <td>E</td>\n",
       "      <td>35.52</td>\n",
       "    </tr>\n",
       "    <tr>\n",
       "      <th>3</th>\n",
       "      <td>Wii Sports Resort</td>\n",
       "      <td>Wii</td>\n",
       "      <td>2009</td>\n",
       "      <td>Sports</td>\n",
       "      <td>15.61</td>\n",
       "      <td>10.93</td>\n",
       "      <td>3.28</td>\n",
       "      <td>2.95</td>\n",
       "      <td>80.000000</td>\n",
       "      <td>8.000000</td>\n",
       "      <td>E</td>\n",
       "      <td>32.77</td>\n",
       "    </tr>\n",
       "    <tr>\n",
       "      <th>6</th>\n",
       "      <td>New Super Mario Bros.</td>\n",
       "      <td>DS</td>\n",
       "      <td>2006</td>\n",
       "      <td>Platform</td>\n",
       "      <td>11.28</td>\n",
       "      <td>9.14</td>\n",
       "      <td>6.50</td>\n",
       "      <td>2.88</td>\n",
       "      <td>89.000000</td>\n",
       "      <td>8.500000</td>\n",
       "      <td>E</td>\n",
       "      <td>29.80</td>\n",
       "    </tr>\n",
       "    <tr>\n",
       "      <th>7</th>\n",
       "      <td>Wii Play</td>\n",
       "      <td>Wii</td>\n",
       "      <td>2006</td>\n",
       "      <td>Misc</td>\n",
       "      <td>13.96</td>\n",
       "      <td>9.18</td>\n",
       "      <td>2.93</td>\n",
       "      <td>2.84</td>\n",
       "      <td>58.000000</td>\n",
       "      <td>6.600000</td>\n",
       "      <td>E</td>\n",
       "      <td>28.91</td>\n",
       "    </tr>\n",
       "    <tr>\n",
       "      <th>...</th>\n",
       "      <td>...</td>\n",
       "      <td>...</td>\n",
       "      <td>...</td>\n",
       "      <td>...</td>\n",
       "      <td>...</td>\n",
       "      <td>...</td>\n",
       "      <td>...</td>\n",
       "      <td>...</td>\n",
       "      <td>...</td>\n",
       "      <td>...</td>\n",
       "      <td>...</td>\n",
       "      <td>...</td>\n",
       "    </tr>\n",
       "    <tr>\n",
       "      <th>16708</th>\n",
       "      <td>Woody Woodpecker in Crazy Castle 5</td>\n",
       "      <td>GBA</td>\n",
       "      <td>2002</td>\n",
       "      <td>Platform</td>\n",
       "      <td>0.01</td>\n",
       "      <td>0.00</td>\n",
       "      <td>0.00</td>\n",
       "      <td>0.00</td>\n",
       "      <td>68.967679</td>\n",
       "      <td>7.125046</td>\n",
       "      <td>E</td>\n",
       "      <td>0.01</td>\n",
       "    </tr>\n",
       "    <tr>\n",
       "      <th>16710</th>\n",
       "      <td>Samurai Warriors: Sanada Maru</td>\n",
       "      <td>PS3</td>\n",
       "      <td>2016</td>\n",
       "      <td>Action</td>\n",
       "      <td>0.00</td>\n",
       "      <td>0.00</td>\n",
       "      <td>0.01</td>\n",
       "      <td>0.00</td>\n",
       "      <td>68.967679</td>\n",
       "      <td>7.125046</td>\n",
       "      <td>M</td>\n",
       "      <td>0.01</td>\n",
       "    </tr>\n",
       "    <tr>\n",
       "      <th>16711</th>\n",
       "      <td>LMA Manager 2007</td>\n",
       "      <td>X360</td>\n",
       "      <td>2006</td>\n",
       "      <td>Sports</td>\n",
       "      <td>0.00</td>\n",
       "      <td>0.01</td>\n",
       "      <td>0.00</td>\n",
       "      <td>0.00</td>\n",
       "      <td>68.967679</td>\n",
       "      <td>7.125046</td>\n",
       "      <td>T</td>\n",
       "      <td>0.01</td>\n",
       "    </tr>\n",
       "    <tr>\n",
       "      <th>16676</th>\n",
       "      <td>G1 Jockey 4 2008</td>\n",
       "      <td>PS3</td>\n",
       "      <td>2008</td>\n",
       "      <td>Sports</td>\n",
       "      <td>0.00</td>\n",
       "      <td>0.00</td>\n",
       "      <td>0.00</td>\n",
       "      <td>0.00</td>\n",
       "      <td>68.967679</td>\n",
       "      <td>7.125046</td>\n",
       "      <td>M</td>\n",
       "      <td>0.00</td>\n",
       "    </tr>\n",
       "    <tr>\n",
       "      <th>16709</th>\n",
       "      <td>SCORE International Baja 1000: The Official Game</td>\n",
       "      <td>PS2</td>\n",
       "      <td>2008</td>\n",
       "      <td>Racing</td>\n",
       "      <td>0.00</td>\n",
       "      <td>0.00</td>\n",
       "      <td>0.00</td>\n",
       "      <td>0.00</td>\n",
       "      <td>68.967679</td>\n",
       "      <td>7.125046</td>\n",
       "      <td>M</td>\n",
       "      <td>0.00</td>\n",
       "    </tr>\n",
       "  </tbody>\n",
       "</table>\n",
       "<p>12819 rows × 12 columns</p>\n",
       "</div>"
      ],
      "text/plain": [
       "                                                   name platform  \\\n",
       "0                                            Wii Sports      Wii   \n",
       "2                                        Mario Kart Wii      Wii   \n",
       "3                                     Wii Sports Resort      Wii   \n",
       "6                                 New Super Mario Bros.       DS   \n",
       "7                                              Wii Play      Wii   \n",
       "...                                                 ...      ...   \n",
       "16708                Woody Woodpecker in Crazy Castle 5      GBA   \n",
       "16710                     Samurai Warriors: Sanada Maru      PS3   \n",
       "16711                                  LMA Manager 2007     X360   \n",
       "16676                                  G1 Jockey 4 2008      PS3   \n",
       "16709  SCORE International Baja 1000: The Official Game      PS2   \n",
       "\n",
       "       year_of_release     genre  na_sales  eu_sales  jp_sales  other_sales  \\\n",
       "0                 2006    Sports     41.36     28.96      3.77         8.45   \n",
       "2                 2008    Racing     15.68     12.76      3.79         3.29   \n",
       "3                 2009    Sports     15.61     10.93      3.28         2.95   \n",
       "6                 2006  Platform     11.28      9.14      6.50         2.88   \n",
       "7                 2006      Misc     13.96      9.18      2.93         2.84   \n",
       "...                ...       ...       ...       ...       ...          ...   \n",
       "16708             2002  Platform      0.01      0.00      0.00         0.00   \n",
       "16710             2016    Action      0.00      0.00      0.01         0.00   \n",
       "16711             2006    Sports      0.00      0.01      0.00         0.00   \n",
       "16676             2008    Sports      0.00      0.00      0.00         0.00   \n",
       "16709             2008    Racing      0.00      0.00      0.00         0.00   \n",
       "\n",
       "       critic_score  user_score rating  total_sales  \n",
       "0         76.000000    8.000000      E        82.54  \n",
       "2         82.000000    8.300000      E        35.52  \n",
       "3         80.000000    8.000000      E        32.77  \n",
       "6         89.000000    8.500000      E        29.80  \n",
       "7         58.000000    6.600000      E        28.91  \n",
       "...             ...         ...    ...          ...  \n",
       "16708     68.967679    7.125046      E         0.01  \n",
       "16710     68.967679    7.125046      M         0.01  \n",
       "16711     68.967679    7.125046      T         0.01  \n",
       "16676     68.967679    7.125046      M         0.00  \n",
       "16709     68.967679    7.125046      M         0.00  \n",
       "\n",
       "[12819 rows x 12 columns]"
      ]
     },
     "execution_count": 26,
     "metadata": {},
     "output_type": "execute_result"
    }
   ],
   "source": [
    "# Filtrando o DataFrame para incluir apenas as top plataformas\n",
    "df_top_n = df[df['platform'].isin(top_n_platform)]\n",
    "df_top_n = df_top_n.sort_values(by='total_sales', ascending=False)\n",
    "df_top_n"
   ]
  },
  {
   "cell_type": "markdown",
   "metadata": {},
   "source": [
    "14678 rows × 12 columns x 16713 rows × 12 columns"
   ]
  },
  {
   "cell_type": "code",
   "execution_count": 27,
   "metadata": {},
   "outputs": [
    {
     "data": {
      "text/plain": [
       "platform\n",
       "GB      2.606735\n",
       "NES     2.561735\n",
       "GEN     1.050000\n",
       "SNES    0.836987\n",
       "PS4     0.801378\n",
       "X360    0.769746\n",
       "2600    0.729173\n",
       "PS3     0.705973\n",
       "Wii     0.687508\n",
       "N64     0.685517\n",
       "XOne    0.645020\n",
       "PS      0.610576\n",
       "PS2     0.581106\n",
       "WiiU    0.559116\n",
       "3DS     0.498077\n",
       "GBA     0.386679\n",
       "DS      0.374765\n",
       "GC      0.357788\n",
       "XB      0.312791\n",
       "SCD     0.310000\n",
       "DC      0.306731\n",
       "PC      0.266448\n",
       "PSP     0.243218\n",
       "WS      0.236667\n",
       "SAT     0.194162\n",
       "PSV     0.125744\n",
       "NG      0.120000\n",
       "TG16    0.080000\n",
       "GG      0.040000\n",
       "3DO     0.033333\n",
       "PCFX    0.030000\n",
       "Name: total_sales, dtype: float64"
      ]
     },
     "execution_count": 27,
     "metadata": {},
     "output_type": "execute_result"
    }
   ],
   "source": [
    "# Plataformas que estão crescendo\n",
    "platform_growing = df.groupby('platform')['total_sales'].mean().sort_values(ascending=False)\n",
    "platform_growing"
   ]
  },
  {
   "cell_type": "markdown",
   "metadata": {},
   "source": [
    "### Construa um diagrama de caixa para as vendas globais de todos os jogos, divididos por plataforma. As diferenças nas vendas são significativas? E quanto às vendas médias em várias plataformas? Descreva suas descobertas.\n",
    "\n",
    "Obs: A diferença de vendas são sim significativas já que tem plataformas com um bom número de vendas e outras que tem seus valores de vendas bem baixos se comparado com outras plataformas\n",
    "\n",
    "Plataformas como PS4, X360 e WiiU têm médias de vendas relativamente boas, enquanto outras, como 3DO e GG, têm médias muito baixas."
   ]
  },
  {
   "cell_type": "code",
   "execution_count": 28,
   "metadata": {
    "scrolled": false
   },
   "outputs": [
    {
     "data": {
      "image/png": "[encoded data removed]",
      "text/plain": [
       "<Figure size 1400x600 with 1 Axes>"
      ]
     },
     "metadata": {},
     "output_type": "display_data"
    }
   ],
   "source": [
    "plt.figure(figsize=(14, 6))\n",
    "sns.boxplot(x='platform', y='total_sales', data=df)\n",
    "plt.title('Diagrama de Caixa para Vendas Globais por Plataforma')\n",
    "plt.xlabel('Platform')\n",
    "plt.ylabel('Global Sales')\n",
    "plt.show()"
   ]
  },
  {
   "cell_type": "code",
   "execution_count": 29,
   "metadata": {},
   "outputs": [
    {
     "data": {
      "text/html": [
       "<div>\n",
       "<style scoped>\n",
       "    .dataframe tbody tr th:only-of-type {\n",
       "        vertical-align: middle;\n",
       "    }\n",
       "\n",
       "    .dataframe tbody tr th {\n",
       "        vertical-align: top;\n",
       "    }\n",
       "\n",
       "    .dataframe thead th {\n",
       "        text-align: right;\n",
       "    }\n",
       "</style>\n",
       "<table border=\"1\" class=\"dataframe\">\n",
       "  <thead>\n",
       "    <tr style=\"text-align: right;\">\n",
       "      <th></th>\n",
       "      <th>count</th>\n",
       "      <th>mean</th>\n",
       "      <th>std</th>\n",
       "      <th>min</th>\n",
       "      <th>25%</th>\n",
       "      <th>50%</th>\n",
       "      <th>75%</th>\n",
       "      <th>max</th>\n",
       "    </tr>\n",
       "    <tr>\n",
       "      <th>platform</th>\n",
       "      <th></th>\n",
       "      <th></th>\n",
       "      <th></th>\n",
       "      <th></th>\n",
       "      <th></th>\n",
       "      <th></th>\n",
       "      <th></th>\n",
       "      <th></th>\n",
       "    </tr>\n",
       "  </thead>\n",
       "  <tbody>\n",
       "    <tr>\n",
       "      <th>2600</th>\n",
       "      <td>133.0</td>\n",
       "      <td>0.729173</td>\n",
       "      <td>0.917799</td>\n",
       "      <td>0.07</td>\n",
       "      <td>0.3000</td>\n",
       "      <td>0.460</td>\n",
       "      <td>0.7800</td>\n",
       "      <td>7.81</td>\n",
       "    </tr>\n",
       "    <tr>\n",
       "      <th>3DO</th>\n",
       "      <td>3.0</td>\n",
       "      <td>0.033333</td>\n",
       "      <td>0.023094</td>\n",
       "      <td>0.02</td>\n",
       "      <td>0.0200</td>\n",
       "      <td>0.020</td>\n",
       "      <td>0.0400</td>\n",
       "      <td>0.06</td>\n",
       "    </tr>\n",
       "    <tr>\n",
       "      <th>3DS</th>\n",
       "      <td>520.0</td>\n",
       "      <td>0.498077</td>\n",
       "      <td>1.430876</td>\n",
       "      <td>0.01</td>\n",
       "      <td>0.0500</td>\n",
       "      <td>0.120</td>\n",
       "      <td>0.3300</td>\n",
       "      <td>14.60</td>\n",
       "    </tr>\n",
       "    <tr>\n",
       "      <th>DC</th>\n",
       "      <td>52.0</td>\n",
       "      <td>0.306731</td>\n",
       "      <td>0.468660</td>\n",
       "      <td>0.02</td>\n",
       "      <td>0.0775</td>\n",
       "      <td>0.135</td>\n",
       "      <td>0.2975</td>\n",
       "      <td>2.41</td>\n",
       "    </tr>\n",
       "    <tr>\n",
       "      <th>DS</th>\n",
       "      <td>2151.0</td>\n",
       "      <td>0.374765</td>\n",
       "      <td>1.426451</td>\n",
       "      <td>0.01</td>\n",
       "      <td>0.0500</td>\n",
       "      <td>0.110</td>\n",
       "      <td>0.2700</td>\n",
       "      <td>29.80</td>\n",
       "    </tr>\n",
       "    <tr>\n",
       "      <th>GB</th>\n",
       "      <td>98.0</td>\n",
       "      <td>2.606735</td>\n",
       "      <td>5.365478</td>\n",
       "      <td>0.06</td>\n",
       "      <td>0.3025</td>\n",
       "      <td>1.165</td>\n",
       "      <td>2.1650</td>\n",
       "      <td>31.38</td>\n",
       "    </tr>\n",
       "    <tr>\n",
       "      <th>GBA</th>\n",
       "      <td>822.0</td>\n",
       "      <td>0.386679</td>\n",
       "      <td>0.896897</td>\n",
       "      <td>0.01</td>\n",
       "      <td>0.0525</td>\n",
       "      <td>0.160</td>\n",
       "      <td>0.3900</td>\n",
       "      <td>15.84</td>\n",
       "    </tr>\n",
       "    <tr>\n",
       "      <th>GC</th>\n",
       "      <td>556.0</td>\n",
       "      <td>0.357788</td>\n",
       "      <td>0.686346</td>\n",
       "      <td>0.01</td>\n",
       "      <td>0.0600</td>\n",
       "      <td>0.150</td>\n",
       "      <td>0.3525</td>\n",
       "      <td>7.06</td>\n",
       "    </tr>\n",
       "    <tr>\n",
       "      <th>GEN</th>\n",
       "      <td>27.0</td>\n",
       "      <td>1.050000</td>\n",
       "      <td>1.490041</td>\n",
       "      <td>0.03</td>\n",
       "      <td>0.0700</td>\n",
       "      <td>0.150</td>\n",
       "      <td>1.7050</td>\n",
       "      <td>6.02</td>\n",
       "    </tr>\n",
       "    <tr>\n",
       "      <th>GG</th>\n",
       "      <td>1.0</td>\n",
       "      <td>0.040000</td>\n",
       "      <td>NaN</td>\n",
       "      <td>0.04</td>\n",
       "      <td>0.0400</td>\n",
       "      <td>0.040</td>\n",
       "      <td>0.0400</td>\n",
       "      <td>0.04</td>\n",
       "    </tr>\n",
       "    <tr>\n",
       "      <th>N64</th>\n",
       "      <td>319.0</td>\n",
       "      <td>0.685517</td>\n",
       "      <td>1.316733</td>\n",
       "      <td>0.01</td>\n",
       "      <td>0.1350</td>\n",
       "      <td>0.270</td>\n",
       "      <td>0.5950</td>\n",
       "      <td>11.90</td>\n",
       "    </tr>\n",
       "    <tr>\n",
       "      <th>NES</th>\n",
       "      <td>98.0</td>\n",
       "      <td>2.561735</td>\n",
       "      <td>5.108012</td>\n",
       "      <td>0.06</td>\n",
       "      <td>1.0000</td>\n",
       "      <td>1.375</td>\n",
       "      <td>2.2225</td>\n",
       "      <td>40.24</td>\n",
       "    </tr>\n",
       "    <tr>\n",
       "      <th>NG</th>\n",
       "      <td>12.0</td>\n",
       "      <td>0.120000</td>\n",
       "      <td>0.082241</td>\n",
       "      <td>0.02</td>\n",
       "      <td>0.0550</td>\n",
       "      <td>0.100</td>\n",
       "      <td>0.2000</td>\n",
       "      <td>0.25</td>\n",
       "    </tr>\n",
       "    <tr>\n",
       "      <th>PC</th>\n",
       "      <td>974.0</td>\n",
       "      <td>0.266448</td>\n",
       "      <td>0.675577</td>\n",
       "      <td>0.01</td>\n",
       "      <td>0.0200</td>\n",
       "      <td>0.050</td>\n",
       "      <td>0.1700</td>\n",
       "      <td>8.01</td>\n",
       "    </tr>\n",
       "    <tr>\n",
       "      <th>PCFX</th>\n",
       "      <td>1.0</td>\n",
       "      <td>0.030000</td>\n",
       "      <td>NaN</td>\n",
       "      <td>0.03</td>\n",
       "      <td>0.0300</td>\n",
       "      <td>0.030</td>\n",
       "      <td>0.0300</td>\n",
       "      <td>0.03</td>\n",
       "    </tr>\n",
       "    <tr>\n",
       "      <th>PS</th>\n",
       "      <td>1197.0</td>\n",
       "      <td>0.610576</td>\n",
       "      <td>1.054502</td>\n",
       "      <td>0.01</td>\n",
       "      <td>0.1100</td>\n",
       "      <td>0.260</td>\n",
       "      <td>0.6600</td>\n",
       "      <td>10.95</td>\n",
       "    </tr>\n",
       "    <tr>\n",
       "      <th>PS2</th>\n",
       "      <td>2161.0</td>\n",
       "      <td>0.581106</td>\n",
       "      <td>1.137927</td>\n",
       "      <td>0.00</td>\n",
       "      <td>0.0800</td>\n",
       "      <td>0.230</td>\n",
       "      <td>0.5600</td>\n",
       "      <td>20.81</td>\n",
       "    </tr>\n",
       "    <tr>\n",
       "      <th>PS3</th>\n",
       "      <td>1331.0</td>\n",
       "      <td>0.705973</td>\n",
       "      <td>1.391749</td>\n",
       "      <td>0.00</td>\n",
       "      <td>0.1100</td>\n",
       "      <td>0.270</td>\n",
       "      <td>0.7500</td>\n",
       "      <td>21.05</td>\n",
       "    </tr>\n",
       "    <tr>\n",
       "      <th>PS4</th>\n",
       "      <td>392.0</td>\n",
       "      <td>0.801378</td>\n",
       "      <td>1.609456</td>\n",
       "      <td>0.01</td>\n",
       "      <td>0.0600</td>\n",
       "      <td>0.200</td>\n",
       "      <td>0.7300</td>\n",
       "      <td>14.63</td>\n",
       "    </tr>\n",
       "    <tr>\n",
       "      <th>PSP</th>\n",
       "      <td>1209.0</td>\n",
       "      <td>0.243218</td>\n",
       "      <td>0.520210</td>\n",
       "      <td>0.01</td>\n",
       "      <td>0.0300</td>\n",
       "      <td>0.090</td>\n",
       "      <td>0.2300</td>\n",
       "      <td>7.68</td>\n",
       "    </tr>\n",
       "    <tr>\n",
       "      <th>PSV</th>\n",
       "      <td>430.0</td>\n",
       "      <td>0.125744</td>\n",
       "      <td>0.212193</td>\n",
       "      <td>0.01</td>\n",
       "      <td>0.0200</td>\n",
       "      <td>0.055</td>\n",
       "      <td>0.1300</td>\n",
       "      <td>1.96</td>\n",
       "    </tr>\n",
       "    <tr>\n",
       "      <th>SAT</th>\n",
       "      <td>173.0</td>\n",
       "      <td>0.194162</td>\n",
       "      <td>0.218092</td>\n",
       "      <td>0.02</td>\n",
       "      <td>0.0800</td>\n",
       "      <td>0.120</td>\n",
       "      <td>0.2600</td>\n",
       "      <td>1.93</td>\n",
       "    </tr>\n",
       "    <tr>\n",
       "      <th>SCD</th>\n",
       "      <td>6.0</td>\n",
       "      <td>0.310000</td>\n",
       "      <td>0.584055</td>\n",
       "      <td>0.04</td>\n",
       "      <td>0.0525</td>\n",
       "      <td>0.065</td>\n",
       "      <td>0.1225</td>\n",
       "      <td>1.50</td>\n",
       "    </tr>\n",
       "    <tr>\n",
       "      <th>SNES</th>\n",
       "      <td>239.0</td>\n",
       "      <td>0.836987</td>\n",
       "      <td>1.869469</td>\n",
       "      <td>0.01</td>\n",
       "      <td>0.1350</td>\n",
       "      <td>0.320</td>\n",
       "      <td>0.7050</td>\n",
       "      <td>20.62</td>\n",
       "    </tr>\n",
       "    <tr>\n",
       "      <th>TG16</th>\n",
       "      <td>2.0</td>\n",
       "      <td>0.080000</td>\n",
       "      <td>0.084853</td>\n",
       "      <td>0.02</td>\n",
       "      <td>0.0500</td>\n",
       "      <td>0.080</td>\n",
       "      <td>0.1100</td>\n",
       "      <td>0.14</td>\n",
       "    </tr>\n",
       "    <tr>\n",
       "      <th>WS</th>\n",
       "      <td>6.0</td>\n",
       "      <td>0.236667</td>\n",
       "      <td>0.159457</td>\n",
       "      <td>0.03</td>\n",
       "      <td>0.1725</td>\n",
       "      <td>0.215</td>\n",
       "      <td>0.2725</td>\n",
       "      <td>0.51</td>\n",
       "    </tr>\n",
       "    <tr>\n",
       "      <th>Wii</th>\n",
       "      <td>1320.0</td>\n",
       "      <td>0.687508</td>\n",
       "      <td>3.126609</td>\n",
       "      <td>0.01</td>\n",
       "      <td>0.0800</td>\n",
       "      <td>0.190</td>\n",
       "      <td>0.4825</td>\n",
       "      <td>82.54</td>\n",
       "    </tr>\n",
       "    <tr>\n",
       "      <th>WiiU</th>\n",
       "      <td>147.0</td>\n",
       "      <td>0.559116</td>\n",
       "      <td>1.058836</td>\n",
       "      <td>0.01</td>\n",
       "      <td>0.0800</td>\n",
       "      <td>0.220</td>\n",
       "      <td>0.5250</td>\n",
       "      <td>7.09</td>\n",
       "    </tr>\n",
       "    <tr>\n",
       "      <th>X360</th>\n",
       "      <td>1262.0</td>\n",
       "      <td>0.769746</td>\n",
       "      <td>1.615674</td>\n",
       "      <td>0.01</td>\n",
       "      <td>0.1100</td>\n",
       "      <td>0.280</td>\n",
       "      <td>0.7575</td>\n",
       "      <td>21.82</td>\n",
       "    </tr>\n",
       "    <tr>\n",
       "      <th>XB</th>\n",
       "      <td>824.0</td>\n",
       "      <td>0.312791</td>\n",
       "      <td>0.534791</td>\n",
       "      <td>0.01</td>\n",
       "      <td>0.0600</td>\n",
       "      <td>0.150</td>\n",
       "      <td>0.3500</td>\n",
       "      <td>8.48</td>\n",
       "    </tr>\n",
       "    <tr>\n",
       "      <th>XOne</th>\n",
       "      <td>247.0</td>\n",
       "      <td>0.645020</td>\n",
       "      <td>1.036139</td>\n",
       "      <td>0.01</td>\n",
       "      <td>0.0600</td>\n",
       "      <td>0.220</td>\n",
       "      <td>0.6850</td>\n",
       "      <td>7.39</td>\n",
       "    </tr>\n",
       "  </tbody>\n",
       "</table>\n",
       "</div>"
      ],
      "text/plain": [
       "           count      mean       std   min     25%    50%     75%    max\n",
       "platform                                                                \n",
       "2600       133.0  0.729173  0.917799  0.07  0.3000  0.460  0.7800   7.81\n",
       "3DO          3.0  0.033333  0.023094  0.02  0.0200  0.020  0.0400   0.06\n",
       "3DS        520.0  0.498077  1.430876  0.01  0.0500  0.120  0.3300  14.60\n",
       "DC          52.0  0.306731  0.468660  0.02  0.0775  0.135  0.2975   2.41\n",
       "DS        2151.0  0.374765  1.426451  0.01  0.0500  0.110  0.2700  29.80\n",
       "GB          98.0  2.606735  5.365478  0.06  0.3025  1.165  2.1650  31.38\n",
       "GBA        822.0  0.386679  0.896897  0.01  0.0525  0.160  0.3900  15.84\n",
       "GC         556.0  0.357788  0.686346  0.01  0.0600  0.150  0.3525   7.06\n",
       "GEN         27.0  1.050000  1.490041  0.03  0.0700  0.150  1.7050   6.02\n",
       "GG           1.0  0.040000       NaN  0.04  0.0400  0.040  0.0400   0.04\n",
       "N64        319.0  0.685517  1.316733  0.01  0.1350  0.270  0.5950  11.90\n",
       "NES         98.0  2.561735  5.108012  0.06  1.0000  1.375  2.2225  40.24\n",
       "NG          12.0  0.120000  0.082241  0.02  0.0550  0.100  0.2000   0.25\n",
       "PC         974.0  0.266448  0.675577  0.01  0.0200  0.050  0.1700   8.01\n",
       "PCFX         1.0  0.030000       NaN  0.03  0.0300  0.030  0.0300   0.03\n",
       "PS        1197.0  0.610576  1.054502  0.01  0.1100  0.260  0.6600  10.95\n",
       "PS2       2161.0  0.581106  1.137927  0.00  0.0800  0.230  0.5600  20.81\n",
       "PS3       1331.0  0.705973  1.391749  0.00  0.1100  0.270  0.7500  21.05\n",
       "PS4        392.0  0.801378  1.609456  0.01  0.0600  0.200  0.7300  14.63\n",
       "PSP       1209.0  0.243218  0.520210  0.01  0.0300  0.090  0.2300   7.68\n",
       "PSV        430.0  0.125744  0.212193  0.01  0.0200  0.055  0.1300   1.96\n",
       "SAT        173.0  0.194162  0.218092  0.02  0.0800  0.120  0.2600   1.93\n",
       "SCD          6.0  0.310000  0.584055  0.04  0.0525  0.065  0.1225   1.50\n",
       "SNES       239.0  0.836987  1.869469  0.01  0.1350  0.320  0.7050  20.62\n",
       "TG16         2.0  0.080000  0.084853  0.02  0.0500  0.080  0.1100   0.14\n",
       "WS           6.0  0.236667  0.159457  0.03  0.1725  0.215  0.2725   0.51\n",
       "Wii       1320.0  0.687508  3.126609  0.01  0.0800  0.190  0.4825  82.54\n",
       "WiiU       147.0  0.559116  1.058836  0.01  0.0800  0.220  0.5250   7.09\n",
       "X360      1262.0  0.769746  1.615674  0.01  0.1100  0.280  0.7575  21.82\n",
       "XB         824.0  0.312791  0.534791  0.01  0.0600  0.150  0.3500   8.48\n",
       "XOne       247.0  0.645020  1.036139  0.01  0.0600  0.220  0.6850   7.39"
      ]
     },
     "execution_count": 29,
     "metadata": {},
     "output_type": "execute_result"
    }
   ],
   "source": [
    "# Realizando uma análise descritiva\n",
    "analise_descritiva = df.groupby('platform')['total_sales'].describe()\n",
    "analise_descritiva"
   ]
  },
  {
   "cell_type": "code",
   "execution_count": 30,
   "metadata": {},
   "outputs": [],
   "source": [
    "df_ps4 = df[df['platform'].str.contains('PS4')]"
   ]
  },
  {
   "cell_type": "markdown",
   "metadata": {},
   "source": [
    "### Veja como as avaliações de usuários e profissionais afetam as vendas de uma plataforma popular (você escolhe). Construa um gráfico de dispersão e calcule a correlação entre revisões e vendas. Tire conclusões.\n"
   ]
  },
  {
   "cell_type": "code",
   "execution_count": 31,
   "metadata": {
    "scrolled": false
   },
   "outputs": [
    {
     "data": {
      "image/png": "[encoded data removed]",
      "text/plain": [
       "<Figure size 1200x600 with 1 Axes>"
      ]
     },
     "metadata": {},
     "output_type": "display_data"
    },
    {
     "name": "stdout",
     "output_type": "stream",
     "text": [
      "Correlação entre Avaliação de Usuários e Vendas: -0.05\n",
      "Correlação entre Avaliação de Críticos e Vendas: 0.35\n"
     ]
    }
   ],
   "source": [
    "# Criar um gráfico de dispersão\n",
    "plt.figure(figsize=(12, 6))\n",
    "sns.scatterplot(x='user_score', y='total_sales', data=df_ps4, label='user review')\n",
    "sns.scatterplot(x='critic_score', y='total_sales', data=df_ps4, label='critics assessment')\n",
    "plt.title('Relação entre Avaliações e Vendas para a Plataforma PS4')\n",
    "plt.xlabel('assessment')\n",
    "plt.ylabel('Global Sales')\n",
    "plt.legend()\n",
    "plt.show()\n",
    "\n",
    "# Calcular a correlação entre avaliações de usuários, críticos e vendas\n",
    "correlacao_user_sales = df_ps4['user_score'].corr(df_ps4['total_sales'])\n",
    "correlacao_critic_sales = df_ps4['critic_score'].corr(df_ps4['total_sales'])\n",
    "\n",
    "print(f\"Correlação entre Avaliação de Usuários e Vendas: {correlacao_user_sales:.2f}\")\n",
    "print(f\"Correlação entre Avaliação de Críticos e Vendas: {correlacao_critic_sales:.2f}\")"
   ]
  },
  {
   "cell_type": "markdown",
   "metadata": {},
   "source": [
    "Obs: A relação entre as avaliações dos críticos e as vendas de jogos é mais notável do que a relação entre as avaliações dos usuários e as vendas. Isso significa que, para essa plataforma PS4, o que os críticos dizem sobre um jogo pode ter um impacto um pouco maior nas vendas do que as opiniões dos próprios jogadores.\n",
    "\n",
    "Dica: Podemos ter uma compreensão mais abrangente dos fatores que influenciam as vendas fazendo aglumas analises adicionais como testes de hipóteses.\n"
   ]
  },
  {
   "cell_type": "markdown",
   "metadata": {},
   "source": [
    "### Tendo suas conclusões em mente, compare as vendas dos mesmos jogos em outras plataformas."
   ]
  },
  {
   "cell_type": "code",
   "execution_count": 32,
   "metadata": {},
   "outputs": [
    {
     "data": {
      "image/png": "[encoded data removed]",
      "text/plain": [
       "<Figure size 1800x600 with 1 Axes>"
      ]
     },
     "metadata": {},
     "output_type": "display_data"
    },
    {
     "name": "stdout",
     "output_type": "stream",
     "text": [
      "\n",
      "Média de Vendas por Plataforma:\n",
      "platform\n",
      "2600    0.729173\n",
      "3DO     0.033333\n",
      "3DS     0.498077\n",
      "DC      0.306731\n",
      "DS      0.374765\n",
      "GB      2.606735\n",
      "GBA     0.386679\n",
      "GC      0.357788\n",
      "GEN     1.050000\n",
      "GG      0.040000\n",
      "N64     0.685517\n",
      "NES     2.561735\n",
      "NG      0.120000\n",
      "PC      0.266448\n",
      "PCFX    0.030000\n",
      "PS      0.610576\n",
      "PS2     0.581106\n",
      "PS3     0.705973\n",
      "PS4     0.801378\n",
      "PSP     0.243218\n",
      "PSV     0.125744\n",
      "SAT     0.194162\n",
      "SCD     0.310000\n",
      "SNES    0.836987\n",
      "TG16    0.080000\n",
      "WS      0.236667\n",
      "Wii     0.687508\n",
      "WiiU    0.559116\n",
      "X360    0.769746\n",
      "XB      0.312791\n",
      "XOne    0.645020\n",
      "Name: total_sales, dtype: float64\n",
      "\n",
      "Total de Vendas por Plataforma:\n",
      "platform\n",
      "2600      96.98\n",
      "3DO        0.10\n",
      "3DS      259.00\n",
      "DC        15.95\n",
      "DS       806.12\n",
      "GB       255.46\n",
      "GBA      317.85\n",
      "GC       198.93\n",
      "GEN       28.35\n",
      "GG         0.04\n",
      "N64      218.68\n",
      "NES      251.05\n",
      "NG         1.44\n",
      "PC       259.52\n",
      "PCFX       0.03\n",
      "PS       730.86\n",
      "PS2     1255.77\n",
      "PS3      939.65\n",
      "PS4      314.14\n",
      "PSP      294.05\n",
      "PSV       54.07\n",
      "SAT       33.59\n",
      "SCD        1.86\n",
      "SNES     200.04\n",
      "TG16       0.16\n",
      "WS         1.42\n",
      "Wii      907.51\n",
      "WiiU      82.19\n",
      "X360     971.42\n",
      "XB       257.74\n",
      "XOne     159.32\n",
      "Name: total_sales, dtype: float64\n"
     ]
    }
   ],
   "source": [
    "# Criando um gráfico de barras para comparar as vendas em diferentes plataformas\n",
    "plt.figure(figsize=(18, 6))\n",
    "sns.barplot(x='platform', y='total_sales', data=df)\n",
    "plt.title('Comparação de Vendas em Diferentes Plataformas')\n",
    "plt.xlabel('Platform')\n",
    "plt.ylabel('Global Sales')\n",
    "plt.show()\n",
    "\n",
    "# Calculando métricas de resumo\n",
    "media_vendas_por_plataforma = df.groupby('platform')['total_sales'].mean()\n",
    "total_vendas_por_plataforma = df.groupby('platform')['total_sales'].sum()\n",
    "\n",
    "print(\"\\nMédia de Vendas por Plataforma:\")\n",
    "print(media_vendas_por_plataforma)\n",
    "\n",
    "print(\"\\nTotal de Vendas por Plataforma:\")\n",
    "print(total_vendas_por_plataforma)"
   ]
  },
  {
   "cell_type": "markdown",
   "metadata": {},
   "source": [
    "### Dê uma olhada na distribuição geral de jogos por gênero. O que podemos dizer sobre os gêneros mais lucrativos? Você pode generalizar sobre gêneros com vendas altas e baixas?\n",
    "\n",
    "Obs: Com base nos gráficos abaixo podemos dizer que jogos do gênero \"ACTION\" e \"ROLE-PLAYING\" são mais lucrativos se comparados com jogos do gênero \"PUZZLE\" e \"STRATEGY\", não posso generalizar pois as vendas para cada gênero de jogo varia de região para região."
   ]
  },
  {
   "cell_type": "code",
   "execution_count": 33,
   "metadata": {},
   "outputs": [
    {
     "data": {
      "image/png": "[encoded data removed]",
      "text/plain": [
       "<Figure size 1200x600 with 1 Axes>"
      ]
     },
     "metadata": {},
     "output_type": "display_data"
    }
   ],
   "source": [
    "# Criando um gráfico de barras para a distribuição de jogos por gênero\n",
    "plt.figure(figsize=(12, 6))\n",
    "sns.countplot(x='genre', data=df, order=df['genre'].value_counts().index)\n",
    "plt.title('Distribuição Geral de Jogos por Gênero')\n",
    "plt.xlabel('Gênero')\n",
    "plt.ylabel('Quantidade de Jogos')\n",
    "plt.show()"
   ]
  },
  {
   "cell_type": "code",
   "execution_count": 34,
   "metadata": {},
   "outputs": [
    {
     "name": "stderr",
     "output_type": "stream",
     "text": [
      "C:\\Users\\B450M\\AppData\\Local\\Temp\\ipykernel_13440\\430289088.py:3: FutureWarning: \n",
      "\n",
      "The `ci` parameter is deprecated. Use `errorbar=None` for the same effect.\n",
      "\n",
      "  sns.barplot(x='genre', y='total_sales', data=df, ci=None)\n"
     ]
    },
    {
     "data": {
      "image/png": "[encoded data removed]",
      "text/plain": [
       "<Figure size 1200x600 with 1 Axes>"
      ]
     },
     "metadata": {},
     "output_type": "display_data"
    }
   ],
   "source": [
    "# Criar um gráfico de barras para as vendas globais por gênero\n",
    "plt.figure(figsize=(12, 6))\n",
    "sns.barplot(x='genre', y='total_sales', data=df, ci=None)\n",
    "plt.title('Vendas Globais por Gênero')\n",
    "plt.xlabel('Gênero')\n",
    "plt.ylabel('Vendas Globais')\n",
    "plt.show()"
   ]
  },
  {
   "cell_type": "markdown",
   "metadata": {},
   "source": [
    "# Criando um perfil para cada região\n",
    "\n",
    "### Para cada região (AN, UE, JP), determine:\n",
    "\n",
    "### As cinco plataformas principais. Descreva as variações das suas quotas de mercado de região para região."
   ]
  },
  {
   "cell_type": "code",
   "execution_count": 35,
   "metadata": {},
   "outputs": [
    {
     "data": {
      "text/plain": [
       "Index(['X360', 'PS2', 'Wii', 'PS3', 'DS'], dtype='object', name='platform')"
      ]
     },
     "execution_count": 35,
     "metadata": {},
     "output_type": "execute_result"
    }
   ],
   "source": [
    "# NA\n",
    "top_platforms_na = df.groupby('platform')['na_sales'].sum().sort_values(ascending=False).head(5).index\n",
    "top_platforms_na"
   ]
  },
  {
   "cell_type": "code",
   "execution_count": 36,
   "metadata": {},
   "outputs": [
    {
     "name": "stderr",
     "output_type": "stream",
     "text": [
      "C:\\Users\\B450M\\AppData\\Local\\Temp\\ipykernel_13440\\2104100316.py:3: FutureWarning: \n",
      "\n",
      "The `ci` parameter is deprecated. Use `errorbar=None` for the same effect.\n",
      "\n",
      "  sns.barplot(x='platform', y='na_sales', data=df, order=top_platforms_na, ci=None)\n"
     ]
    },
    {
     "data": {
      "text/plain": [
       "Text(0, 0.5, 'Vendas Globais')"
      ]
     },
     "execution_count": 36,
     "metadata": {},
     "output_type": "execute_result"
    },
    {
     "data": {
      "image/png": "[encoded data removed]",
      "text/plain": [
       "<Figure size 1500x500 with 1 Axes>"
      ]
     },
     "metadata": {},
     "output_type": "display_data"
    }
   ],
   "source": [
    "plt.figure(figsize=(15, 5))\n",
    "plt.subplot(1, 3, 1)\n",
    "sns.barplot(x='platform', y='na_sales', data=df, order=top_platforms_na, ci=None)\n",
    "plt.title('Quotas de Mercado in North American')\n",
    "plt.xlabel('Plataforma')\n",
    "plt.ylabel('Vendas Globais')"
   ]
  },
  {
   "cell_type": "code",
   "execution_count": 37,
   "metadata": {},
   "outputs": [
    {
     "data": {
      "text/plain": [
       "Index(['PS2', 'PS3', 'X360', 'Wii', 'PS'], dtype='object', name='platform')"
      ]
     },
     "execution_count": 37,
     "metadata": {},
     "output_type": "execute_result"
    }
   ],
   "source": [
    "# UE\n",
    "top_platforms_eu = df.groupby('platform')['eu_sales'].sum().sort_values(ascending=False).head(5).index\n",
    "top_platforms_eu"
   ]
  },
  {
   "cell_type": "code",
   "execution_count": 38,
   "metadata": {},
   "outputs": [
    {
     "name": "stderr",
     "output_type": "stream",
     "text": [
      "C:\\Users\\B450M\\AppData\\Local\\Temp\\ipykernel_13440\\1448626406.py:3: FutureWarning: \n",
      "\n",
      "The `ci` parameter is deprecated. Use `errorbar=None` for the same effect.\n",
      "\n",
      "  sns.barplot(x='platform', y='eu_sales', data=df, order=top_platforms_eu, ci=None)\n"
     ]
    },
    {
     "data": {
      "text/plain": [
       "Text(0, 0.5, 'Vendas Globais')"
      ]
     },
     "execution_count": 38,
     "metadata": {},
     "output_type": "execute_result"
    },
    {
     "data": {
      "image/png": "[encoded data removed]",
      "text/plain": [
       "<Figure size 1500x500 with 1 Axes>"
      ]
     },
     "metadata": {},
     "output_type": "display_data"
    }
   ],
   "source": [
    "plt.figure(figsize=(15, 5))\n",
    "plt.subplot(1, 3, 2)\n",
    "sns.barplot(x='platform', y='eu_sales', data=df, order=top_platforms_eu, ci=None)\n",
    "plt.title('Quotas de Mercado in European')\n",
    "plt.xlabel('Plataforma')\n",
    "plt.ylabel('Vendas Globais')"
   ]
  },
  {
   "cell_type": "code",
   "execution_count": 39,
   "metadata": {},
   "outputs": [
    {
     "data": {
      "text/plain": [
       "Index(['DS', 'PS', 'PS2', 'SNES', '3DS'], dtype='object', name='platform')"
      ]
     },
     "execution_count": 39,
     "metadata": {},
     "output_type": "execute_result"
    }
   ],
   "source": [
    "# JP\n",
    "top_platforms_jp = df.groupby('platform')['jp_sales'].sum().sort_values(ascending=False).head(5).index\n",
    "top_platforms_jp"
   ]
  },
  {
   "cell_type": "code",
   "execution_count": 40,
   "metadata": {},
   "outputs": [
    {
     "name": "stderr",
     "output_type": "stream",
     "text": [
      "C:\\Users\\B450M\\AppData\\Local\\Temp\\ipykernel_13440\\2711037034.py:3: FutureWarning: \n",
      "\n",
      "The `ci` parameter is deprecated. Use `errorbar=None` for the same effect.\n",
      "\n",
      "  sns.barplot(x='platform', y='jp_sales', data=df, order=top_platforms_jp, ci=None)\n"
     ]
    },
    {
     "data": {
      "text/plain": [
       "Text(0, 0.5, 'Vendas Globais')"
      ]
     },
     "execution_count": 40,
     "metadata": {},
     "output_type": "execute_result"
    },
    {
     "data": {
      "image/png": "[encoded data removed]",
      "text/plain": [
       "<Figure size 1500x500 with 1 Axes>"
      ]
     },
     "metadata": {},
     "output_type": "display_data"
    }
   ],
   "source": [
    "plt.figure(figsize=(15, 5))\n",
    "plt.subplot(1, 3, 3)\n",
    "sns.barplot(x='platform', y='jp_sales', data=df, order=top_platforms_jp, ci=None)\n",
    "plt.title('Quotas de Mercado in Japan')\n",
    "plt.xlabel('Plataforma')\n",
    "plt.ylabel('Vendas Globais')"
   ]
  },
  {
   "cell_type": "markdown",
   "metadata": {},
   "source": [
    "# Os cinco principais gêneros. Explique a diferença.\n",
    "\n",
    "Obs: Observando os gráficos abaixo podemos observar que os gêneros sports,misc e action estão dominantes nas 3 regiões ja platform e shooter apenas em 2/3 regiões e racing role-playing aparecem predominantes em apenas 1/3 regiões."
   ]
  },
  {
   "cell_type": "code",
   "execution_count": 41,
   "metadata": {
    "scrolled": false
   },
   "outputs": [
    {
     "name": "stderr",
     "output_type": "stream",
     "text": [
      "C:\\Users\\B450M\\AppData\\Local\\Temp\\ipykernel_13440\\3970616980.py:7: FutureWarning: \n",
      "\n",
      "The `ci` parameter is deprecated. Use `errorbar=None` for the same effect.\n",
      "\n",
      "  sns.barplot(x='genre', y='na_sales', data=df_top_genres_na, ci=None)\n"
     ]
    },
    {
     "data": {
      "image/png": "[encoded data removed]",
      "text/plain": [
       "<Figure size 1200x600 with 1 Axes>"
      ]
     },
     "metadata": {},
     "output_type": "display_data"
    }
   ],
   "source": [
    "# 5 principais gêneros no NA\n",
    "top_genres_na = df.groupby('genre')['na_sales'].sum().sort_values(ascending=False).head(5).index\n",
    "df_top_genres_na = df[df['genre'].isin(top_genres_na)]\n",
    "plt.figure(figsize=(12, 6))\n",
    "\n",
    "# Criaando um gráfico de barras para os 5 principais gêneros da região NA\n",
    "sns.barplot(x='genre', y='na_sales', data=df_top_genres_na, ci=None)\n",
    "plt.title('Os 5 principais Gêneros na América do Norte')\n",
    "plt.xlabel('Gênero')\n",
    "plt.ylabel('Vendas')\n",
    "plt.show()"
   ]
  },
  {
   "cell_type": "code",
   "execution_count": 42,
   "metadata": {
    "scrolled": false
   },
   "outputs": [
    {
     "name": "stderr",
     "output_type": "stream",
     "text": [
      "C:\\Users\\B450M\\AppData\\Local\\Temp\\ipykernel_13440\\3637569531.py:7: FutureWarning: \n",
      "\n",
      "The `ci` parameter is deprecated. Use `errorbar=None` for the same effect.\n",
      "\n",
      "  sns.barplot(x='genre', y='eu_sales', data=df_top_genres_eu, ci=None)\n"
     ]
    },
    {
     "data": {
      "image/png": "[encoded data removed]",
      "text/plain": [
       "<Figure size 1200x600 with 1 Axes>"
      ]
     },
     "metadata": {},
     "output_type": "display_data"
    }
   ],
   "source": [
    "# 5 principais gêneros no EU\n",
    "top_genres_eu = df.groupby('genre')['eu_sales'].sum().sort_values(ascending=False).head(5).index\n",
    "df_top_genres_eu = df[df['genre'].isin(top_genres_eu)]\n",
    "\n",
    "# Criaando um gráfico de barras para os 5 principais gêneros da região EU\n",
    "plt.figure(figsize=(12, 6))\n",
    "sns.barplot(x='genre', y='eu_sales', data=df_top_genres_eu, ci=None)\n",
    "plt.title('Os 5 principais Gêneros na Europa')\n",
    "plt.xlabel('Gênero')\n",
    "plt.ylabel('Vendas')\n",
    "plt.show()"
   ]
  },
  {
   "cell_type": "code",
   "execution_count": 43,
   "metadata": {
    "scrolled": false
   },
   "outputs": [
    {
     "name": "stderr",
     "output_type": "stream",
     "text": [
      "C:\\Users\\B450M\\AppData\\Local\\Temp\\ipykernel_13440\\1159500843.py:7: FutureWarning: \n",
      "\n",
      "The `ci` parameter is deprecated. Use `errorbar=None` for the same effect.\n",
      "\n",
      "  sns.barplot(x='genre', y='jp_sales', data=df_top_genres_jp, ci=None)\n"
     ]
    },
    {
     "data": {
      "image/png": "[encoded data removed]",
      "text/plain": [
       "<Figure size 1200x600 with 1 Axes>"
      ]
     },
     "metadata": {},
     "output_type": "display_data"
    }
   ],
   "source": [
    "# 5 principais gêneros no JP\n",
    "top_genres_jp = df.groupby('genre')['jp_sales'].sum().sort_values(ascending=False).head(5).index\n",
    "df_top_genres_jp = df[df['genre'].isin(top_genres_jp)]\n",
    "\n",
    "# Criaando um gráfico de barras para os 5 principais gêneros da região JP\n",
    "plt.figure(figsize=(12, 6))\n",
    "sns.barplot(x='genre', y='jp_sales', data=df_top_genres_jp, ci=None)\n",
    "plt.title('Os 5 principais Gêneros no Japão')\n",
    "plt.xlabel('Gênero')\n",
    "plt.ylabel('Vendas')\n",
    "plt.show()"
   ]
  },
  {
   "cell_type": "markdown",
   "metadata": {},
   "source": [
    "# As classificações do ESRB afetam as vendas em regiões individuais?\n",
    "\n",
    "Obs: Observando os gráficos sobre as vendas por classificação de faixa etária podemos observar que as vendas são maiores para os publicos K-A(Kids to Adults) e AO(adults only) na América do Norte, já na Europa temos AO(adults only) liderando as vendas e logo após temos E(everyone) e T(teens), no Japão as vendas crescem mais para o publico K-A(Kids to Adults) e M(mature)."
   ]
  },
  {
   "cell_type": "code",
   "execution_count": 44,
   "metadata": {
    "scrolled": false
   },
   "outputs": [
    {
     "name": "stderr",
     "output_type": "stream",
     "text": [
      "C:\\Users\\B450M\\AppData\\Local\\Temp\\ipykernel_13440\\3376070365.py:3: FutureWarning: \n",
      "\n",
      "The `ci` parameter is deprecated. Use `errorbar=None` for the same effect.\n",
      "\n",
      "  sns.barplot(x='rating', y='na_sales', data=df, ci=None)\n"
     ]
    },
    {
     "data": {
      "text/plain": [
       "Text(0, 0.5, 'Vendas')"
      ]
     },
     "execution_count": 44,
     "metadata": {},
     "output_type": "execute_result"
    },
    {
     "data": {
      "image/png": "[encoded data removed]",
      "text/plain": [
       "<Figure size 800x600 with 1 Axes>"
      ]
     },
     "metadata": {},
     "output_type": "display_data"
    }
   ],
   "source": [
    "# América do Norte\n",
    "plt.figure(figsize=(8, 6))\n",
    "sns.barplot(x='rating', y='na_sales', data=df, ci=None)\n",
    "plt.title('Vendas na América do Norte por Classificação do ESRB')\n",
    "plt.xlabel('Classificação do ESRB')\n",
    "plt.ylabel('Vendas')"
   ]
  },
  {
   "cell_type": "code",
   "execution_count": 45,
   "metadata": {},
   "outputs": [
    {
     "name": "stderr",
     "output_type": "stream",
     "text": [
      "C:\\Users\\B450M\\AppData\\Local\\Temp\\ipykernel_13440\\1741749873.py:3: FutureWarning: \n",
      "\n",
      "The `ci` parameter is deprecated. Use `errorbar=None` for the same effect.\n",
      "\n",
      "  sns.barplot(x='rating', y='eu_sales', data=df, ci=None)\n"
     ]
    },
    {
     "data": {
      "text/plain": [
       "Text(0, 0.5, 'Vendas')"
      ]
     },
     "execution_count": 45,
     "metadata": {},
     "output_type": "execute_result"
    },
    {
     "data": {
      "image/png": "[encoded data removed]",
      "text/plain": [
       "<Figure size 800x600 with 1 Axes>"
      ]
     },
     "metadata": {},
     "output_type": "display_data"
    }
   ],
   "source": [
    "# Europa\n",
    "plt.figure(figsize=(8, 6))\n",
    "sns.barplot(x='rating', y='eu_sales', data=df, ci=None)\n",
    "plt.title('Vendas na Europa por Classificação do ESRB')\n",
    "plt.xlabel('Classificação do ESRB')\n",
    "plt.ylabel('Vendas')"
   ]
  },
  {
   "cell_type": "code",
   "execution_count": 46,
   "metadata": {
    "scrolled": false
   },
   "outputs": [
    {
     "name": "stderr",
     "output_type": "stream",
     "text": [
      "C:\\Users\\B450M\\AppData\\Local\\Temp\\ipykernel_13440\\3963318402.py:3: FutureWarning: \n",
      "\n",
      "The `ci` parameter is deprecated. Use `errorbar=None` for the same effect.\n",
      "\n",
      "  sns.barplot(x='rating', y='jp_sales', data=df, ci=None)\n"
     ]
    },
    {
     "data": {
      "image/png": "[encoded data removed]",
      "text/plain": [
       "<Figure size 800x600 with 1 Axes>"
      ]
     },
     "metadata": {},
     "output_type": "display_data"
    }
   ],
   "source": [
    "# Japão\n",
    "plt.figure(figsize=(8, 6))\n",
    "sns.barplot(x='rating', y='jp_sales', data=df, ci=None)\n",
    "plt.title('Vendas no Japão por Classificação do ESRB')\n",
    "plt.xlabel('Classificação do ESRB')\n",
    "plt.ylabel('Vendas no Japão')\n",
    "plt.show()"
   ]
  },
  {
   "cell_type": "markdown",
   "metadata": {},
   "source": [
    "# Teste de hipóteses\n",
    "\n",
    "Testando as seguintes hipóteses\n",
    "\n",
    "- — As classificações médias dos usuários das plataformas Xbox One e PC são as mesmas.\n",
    "\n",
    "Obs: Rejeitamos a hipótese nula, então podemos afirmar com confiança que as vendas totais das duas plataformas são diferentes. As vendas entre as plataformas Xbox e PC tem uma diferença significativa.\n",
    "\n",
    "- — As classificações médias de usuários para os gêneros Action (ação) e Sports (esportes) são diferentes.\n",
    "\n",
    "Obs: Não rejeitamos a hipótese nula, o que significa que não há evidências suficientes para concluir que as classificações médias são diferentes.\n",
    "\n",
    "Defina o valor do limiar alfa você mesmo.\n",
    "\n",
    "Obs: Valor limiar do alfa em 0.05\n",
    "\n",
    "Explique:\n",
    "- — Como você formula as hipóteses alternativas e nulas.\n",
    "\n",
    "Obs: Eu faço meus testes de hipóteses com um valor de alfa de 0.05, e então tiro as minhas conclusões como no teste de hipótese acima ambos dados comparados obtivemos dados em que não poderiamos rejeitar a hipótese nula então conclui que: não podemos afirmar com confiança que há uma diferença estatisticamente significativa entre plataformas e generos comparados mas isso não significa que não existe uma diferença real entre as plataformas e generos comparados.\n",
    "\n",
    "- — Quais critérios você usou para testar as hipóteses, e por quê\n",
    "\n",
    "Obs: Utilizei Um valor de alfa de 0.05 significa que há uma probabilidade de 5% de cometer um erro, é um valor alpha padrão na prática de estatistica e também por estar mais acostumado a utilizar o valor alpha em 0.05 me gera mais confiança em meus resultados."
   ]
  },
  {
   "cell_type": "code",
   "execution_count": 47,
   "metadata": {},
   "outputs": [],
   "source": [
    "# As classificações médias dos usuários das plataformas Xbox One e PC são as mesmas.\n",
    "\n",
    "xbox_sales = df.loc[df['platform'] == 'XOne', 'total_sales'].tolist()\n",
    "pc_sales = df.loc[df['platform'] == 'PC', 'total_sales'].tolist()"
   ]
  },
  {
   "cell_type": "code",
   "execution_count": 48,
   "metadata": {},
   "outputs": [
    {
     "name": "stdout",
     "output_type": "stream",
     "text": [
      "Valor-p: 1.0196533966248761e-07\n",
      "Rejeitamos a hipótese nula\n"
     ]
    }
   ],
   "source": [
    "# nível crítico de significância estatística\n",
    "alpha = 0.05\n",
    "# se o valor-p for menor que alfa, rejeitamos a hipótese nula\n",
    "\n",
    "results = st.ttest_ind(xbox_sales, pc_sales, equal_var=False)\n",
    "\n",
    "print('Valor-p:', results.pvalue)\n",
    "\n",
    "if results.pvalue < alpha:\n",
    "    print(\"Rejeitamos a hipótese nula\")\n",
    "else:\n",
    "    print(\"Não podemos rejeitar a hipótese nula\")"
   ]
  },
  {
   "cell_type": "markdown",
   "metadata": {},
   "source": [
    "Obs: Rejeitamos a hipótese nula, então podemos afirmar com confiança que as vendas totais das duas plataformas são diferentes. As vendas entre as plataformas Xbox e PC tem uma diferença significativa."
   ]
  },
  {
   "cell_type": "code",
   "execution_count": 49,
   "metadata": {},
   "outputs": [],
   "source": [
    "# As classificações médias de usuários para os gêneros Action (ação) e Sports (esportes) são diferentes.\n",
    "\n",
    "action_ratings = df.loc[df['genre'] == 'Action', 'user_score'].tolist()\n",
    "sports_ratings = df.loc[df['genre'] == 'Sports', 'user_score'].tolist()"
   ]
  },
  {
   "cell_type": "code",
   "execution_count": 50,
   "metadata": {},
   "outputs": [
    {
     "name": "stdout",
     "output_type": "stream",
     "text": [
      "Valor-p: 0.1878227241619563\n",
      "Não podemos rejeitar a hipótese nula\n"
     ]
    }
   ],
   "source": [
    "# nível crítico de significância estatística\n",
    "alpha = 0.05\n",
    "# se o valor-p for menor que alfa, rejeitamos a hipótese nula\n",
    "\n",
    "results = st.ttest_ind(action_ratings, sports_ratings, equal_var=False)\n",
    "\n",
    "print('Valor-p:', results.pvalue)\n",
    "\n",
    "if results.pvalue < alpha:\n",
    "    print(\"Rejeitamos a hipótese nula\")\n",
    "else:\n",
    "    print(\"Não podemos rejeitar a hipótese nula\")"
   ]
  },
  {
   "cell_type": "markdown",
   "metadata": {},
   "source": [
    "Obs: Não rejeitamos a hipótese nula, o que significa que não há evidências suficientes para concluir que as classificações médias são diferentes."
   ]
  },
  {
   "cell_type": "markdown",
   "metadata": {},
   "source": [
    "### Como você formula as hipóteses alternativas e nulas\n",
    "\n",
    "Obs: Eu faço meus testes de hipóteses com um valor de alfa de 0.05, e então tiro as minhas conclusões como no teste de hipótese acima ambos dados comparados obtivemos dados em que não poderiamos rejeitar a hipótese nula então conclui que: não podemos afirmar com confiança que há uma diferença estatisticamente significativa entre plataformas e generos comparados mas isso não significa que não existe uma diferença real entre as plataformas e generos comparados."
   ]
  },
  {
   "cell_type": "markdown",
   "metadata": {},
   "source": [
    "#  Quais critérios você usou para testar as hipóteses, e por quê\n",
    "\n",
    "Obs: Utilizei Um valor de alfa de 0.05 significa que há uma probabilidade de 5% de cometer um erro, é um valor alpha padrão na prática de estatistica e também  por estar mais acostumado a utilizar o valor alpha em 0.05 me gera mais confiança em meus resultados."
   ]
  },
  {
   "cell_type": "markdown",
   "metadata": {},
   "source": [
    "# Conclusão\n",
    "\n",
    "Após seguir todos os padrões estabelecidos para um analista de dados, tirei minhas conclusões e pude observar que as plataformas xbox, ps2, ps3 e wii se destacaram no aspecto de vendas globais se comparado com as demais plataformas, em relação ao gênero dos jogos eu pude concluir que os gêneros sports,misc e action estavam dominantes nas vendas das regiões North American, Europe e Japan em relação com os outros gêneros de jogos. As vendas são maiores para os publicos K-A(Kids to Adults) e AO(adults only) na América do Norte, já na Europa temos AO(adults only) liderando as vendas e logo após temos E(everyone) e T(teens), no Japão as vendas crescem mais para o publico K-A(Kids to Adults) e M(mature)."
   ]
  }
 ],
 "metadata": {
  "ExecuteTimeLog": [
   {
    "duration": 313,
    "start_time": "2024-06-03T21:53:57.797Z"
   },
   {
    "duration": 23,
    "start_time": "2024-06-03T21:54:26.369Z"
   },
   {
    "duration": 22,
    "start_time": "2024-06-03T21:55:06.953Z"
   },
   {
    "duration": 1345,
    "start_time": "2024-06-03T21:55:14.721Z"
   },
   {
    "duration": 54,
    "start_time": "2024-06-03T21:55:16.069Z"
   },
   {
    "duration": 20,
    "start_time": "2024-06-03T21:55:16.125Z"
   },
   {
    "duration": 484,
    "start_time": "2024-06-03T21:55:16.149Z"
   },
   {
    "duration": 0,
    "start_time": "2024-06-03T21:55:16.639Z"
   },
   {
    "duration": 0,
    "start_time": "2024-06-03T21:55:16.642Z"
   },
   {
    "duration": 0,
    "start_time": "2024-06-03T21:55:16.644Z"
   },
   {
    "duration": 0,
    "start_time": "2024-06-03T21:55:16.647Z"
   },
   {
    "duration": 0,
    "start_time": "2024-06-03T21:55:16.650Z"
   },
   {
    "duration": 0,
    "start_time": "2024-06-03T21:55:16.652Z"
   },
   {
    "duration": 0,
    "start_time": "2024-06-03T21:55:16.655Z"
   },
   {
    "duration": 0,
    "start_time": "2024-06-03T21:55:16.658Z"
   },
   {
    "duration": 0,
    "start_time": "2024-06-03T21:55:16.661Z"
   },
   {
    "duration": 0,
    "start_time": "2024-06-03T21:55:16.664Z"
   },
   {
    "duration": 0,
    "start_time": "2024-06-03T21:55:16.666Z"
   },
   {
    "duration": 0,
    "start_time": "2024-06-03T21:55:16.668Z"
   },
   {
    "duration": 0,
    "start_time": "2024-06-03T21:55:16.671Z"
   },
   {
    "duration": 0,
    "start_time": "2024-06-03T21:55:16.673Z"
   },
   {
    "duration": 0,
    "start_time": "2024-06-03T21:55:16.732Z"
   },
   {
    "duration": 0,
    "start_time": "2024-06-03T21:55:16.734Z"
   },
   {
    "duration": 0,
    "start_time": "2024-06-03T21:55:16.736Z"
   },
   {
    "duration": 0,
    "start_time": "2024-06-03T21:55:16.738Z"
   },
   {
    "duration": 0,
    "start_time": "2024-06-03T21:55:16.740Z"
   },
   {
    "duration": 0,
    "start_time": "2024-06-03T21:55:16.746Z"
   },
   {
    "duration": 0,
    "start_time": "2024-06-03T21:55:16.748Z"
   },
   {
    "duration": 0,
    "start_time": "2024-06-03T21:55:16.750Z"
   },
   {
    "duration": 0,
    "start_time": "2024-06-03T21:55:16.752Z"
   },
   {
    "duration": 0,
    "start_time": "2024-06-03T21:55:16.754Z"
   },
   {
    "duration": 0,
    "start_time": "2024-06-03T21:55:16.756Z"
   },
   {
    "duration": 0,
    "start_time": "2024-06-03T21:55:16.758Z"
   },
   {
    "duration": 0,
    "start_time": "2024-06-03T21:55:16.761Z"
   },
   {
    "duration": 0,
    "start_time": "2024-06-03T21:55:16.764Z"
   },
   {
    "duration": 0,
    "start_time": "2024-06-03T21:55:16.766Z"
   },
   {
    "duration": 0,
    "start_time": "2024-06-03T21:55:16.829Z"
   },
   {
    "duration": 0,
    "start_time": "2024-06-03T21:55:16.832Z"
   },
   {
    "duration": 0,
    "start_time": "2024-06-03T21:55:16.835Z"
   },
   {
    "duration": 0,
    "start_time": "2024-06-03T21:55:16.837Z"
   },
   {
    "duration": 0,
    "start_time": "2024-06-03T21:55:16.838Z"
   },
   {
    "duration": 0,
    "start_time": "2024-06-03T21:55:16.840Z"
   },
   {
    "duration": 0,
    "start_time": "2024-06-03T21:55:16.842Z"
   },
   {
    "duration": 0,
    "start_time": "2024-06-03T21:55:16.845Z"
   },
   {
    "duration": 0,
    "start_time": "2024-06-03T21:55:16.848Z"
   },
   {
    "duration": 0,
    "start_time": "2024-06-03T21:55:16.850Z"
   },
   {
    "duration": 0,
    "start_time": "2024-06-03T21:55:16.853Z"
   },
   {
    "duration": 0,
    "start_time": "2024-06-03T21:55:16.856Z"
   },
   {
    "duration": 0,
    "start_time": "2024-06-03T21:55:16.858Z"
   },
   {
    "duration": 0,
    "start_time": "2024-06-03T21:55:16.860Z"
   },
   {
    "duration": 0,
    "start_time": "2024-06-03T21:55:16.862Z"
   },
   {
    "duration": 0,
    "start_time": "2024-06-03T21:55:16.865Z"
   },
   {
    "duration": 0,
    "start_time": "2024-06-03T21:55:16.866Z"
   },
   {
    "duration": 0,
    "start_time": "2024-06-03T21:55:16.869Z"
   },
   {
    "duration": 0,
    "start_time": "2024-06-03T21:55:16.930Z"
   },
   {
    "duration": 0,
    "start_time": "2024-06-03T21:55:16.933Z"
   },
   {
    "duration": 7,
    "start_time": "2024-06-03T21:55:27.819Z"
   },
   {
    "duration": 11,
    "start_time": "2024-06-03T21:55:31.390Z"
   }
  ],
  "kernelspec": {
   "display_name": "base",
   "language": "python",
   "name": "python3"
  },
  "language_info": {
   "codemirror_mode": {
    "name": "ipython",
    "version": 3
   },
   "file_extension": ".py",
   "mimetype": "text/x-python",
   "name": "python",
   "nbconvert_exporter": "python",
   "pygments_lexer": "ipython3",
   "version": "3.11.7"
  },
  "toc": {
   "base_numbering": 1,
   "nav_menu": {},
   "number_sections": true,
   "sideBar": true,
   "skip_h1_title": true,
   "title_cell": "Table of Contents",
   "title_sidebar": "Contents",
   "toc_cell": false,
   "toc_position": {
    "height": "calc(100% - 180px)",
    "left": "10px",
    "top": "150px",
    "width": "320px"
   },
   "toc_section_display": true,
   "toc_window_display": false
  }
 },
 "nbformat": 4,
 "nbformat_minor": 2
}
